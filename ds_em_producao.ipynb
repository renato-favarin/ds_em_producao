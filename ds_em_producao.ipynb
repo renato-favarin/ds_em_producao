{
 "cells": [
  {
   "cell_type": "markdown",
   "id": "suburban-peace",
   "metadata": {},
   "source": [
    "Oficialmente, os estudos do DS em Produção serão iniciados.\n",
    "Por enquanto aprendi como configura o ambiente e sincroniza com o GitHub."
   ]
  },
  {
   "cell_type": "code",
   "execution_count": 1,
   "id": "sexual-dynamics",
   "metadata": {},
   "outputs": [
    {
     "name": "stdout",
     "output_type": "stream",
     "text": [
      "Git\n"
     ]
    }
   ],
   "source": [
    "print(\"Git\")"
   ]
  },
  {
   "cell_type": "code",
   "execution_count": null,
   "id": "arranged-sarah",
   "metadata": {},
   "outputs": [],
   "source": []
  }
 ],
 "metadata": {
  "kernelspec": {
   "display_name": "Python 3",
   "language": "python",
   "name": "python3"
  },
  "language_info": {
   "codemirror_mode": {
    "name": "ipython",
    "version": 3
   },
   "file_extension": ".py",
   "mimetype": "text/x-python",
   "name": "python",
   "nbconvert_exporter": "python",
   "pygments_lexer": "ipython3",
   "version": "3.7.10"
  }
 },
 "nbformat": 4,
 "nbformat_minor": 5
}
