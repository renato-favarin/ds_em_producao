{
 "cells": [
  {
   "cell_type": "markdown",
   "id": "enclosed-brother",
   "metadata": {},
   "source": [
    "## TOC:\n",
    "* [Fillout NA](#1.5-Fillout-NA)\n",
    "* [Numerical Attibutes](#1.7.1-Numerical-Attributes)"
   ]
  },
  {
   "cell_type": "markdown",
   "id": "necessary-claim",
   "metadata": {
    "slideshow": {
     "slide_type": "notes"
    },
    "tags": []
   },
   "source": [
    "# 0.0. IMPORTS"
   ]
  },
  {
   "cell_type": "code",
   "execution_count": null,
   "id": "wired-cinema",
   "metadata": {},
   "outputs": [],
   "source": [
    "## TOC:\n",
    "* [ 0.0. IMPORTS](#first-bullet)\n",
    "* [Second Bullet Header](#second-bullet)"
   ]
  },
  {
   "cell_type": "code",
   "execution_count": 68,
   "id": "affected-salmon",
   "metadata": {
    "execution": {
     "iopub.execute_input": "2021-04-14T12:47:01.178306Z",
     "iopub.status.busy": "2021-04-14T12:47:01.178306Z",
     "iopub.status.idle": "2021-04-14T12:47:01.181306Z",
     "shell.execute_reply": "2021-04-14T12:47:01.181306Z",
     "shell.execute_reply.started": "2021-04-14T12:47:01.178306Z"
    },
    "scrolled": true,
    "tags": []
   },
   "outputs": [],
   "source": [
    "import pandas as pd\n",
    "import seaborn as sns\n",
    "import matplotlib.pyplot as plt\n",
    "import numpy as np\n",
    "import inflection\n",
    "import math"
   ]
  },
  {
   "cell_type": "markdown",
   "id": "desirable-latter",
   "metadata": {
    "heading_collapsed": "true",
    "tags": []
   },
   "source": [
    "## 0.1. Helper Functions"
   ]
  },
  {
   "cell_type": "markdown",
   "id": "bizarre-static",
   "metadata": {
    "tags": []
   },
   "source": [
    "## 0.2. Loading data"
   ]
  },
  {
   "cell_type": "code",
   "execution_count": 40,
   "id": "julian-tobago",
   "metadata": {
    "execution": {
     "iopub.execute_input": "2021-04-14T10:57:34.537306Z",
     "iopub.status.busy": "2021-04-14T10:57:34.536306Z",
     "iopub.status.idle": "2021-04-14T10:57:36.272306Z",
     "shell.execute_reply": "2021-04-14T10:57:36.272306Z",
     "shell.execute_reply.started": "2021-04-14T10:57:34.537306Z"
    },
    "tags": []
   },
   "outputs": [],
   "source": [
    "df_sales_raw = pd.read_csv( 'data/train.csv', low_memory = False)\n",
    "df_store_raw = pd.read_csv( 'data/store.csv', low_memory = False)\n",
    "\n",
    "# merge\n",
    "df_raw = pd.merge(df_sales_raw,df_store_raw, how='left', on = 'Store' )"
   ]
  },
  {
   "cell_type": "markdown",
   "id": "suited-divorce",
   "metadata": {
    "tags": []
   },
   "source": [
    "# 1.0. DESCRICAO DOS DADOS"
   ]
  },
  {
   "cell_type": "code",
   "execution_count": 41,
   "id": "herbal-influence",
   "metadata": {
    "execution": {
     "iopub.execute_input": "2021-04-14T10:57:36.275306Z",
     "iopub.status.busy": "2021-04-14T10:57:36.274306Z",
     "iopub.status.idle": "2021-04-14T10:57:36.416306Z",
     "shell.execute_reply": "2021-04-14T10:57:36.416306Z",
     "shell.execute_reply.started": "2021-04-14T10:57:36.275306Z"
    },
    "tags": []
   },
   "outputs": [],
   "source": [
    "# é interessante copiar o df no início de cada seção para evitar que, caso seja alterado o conteúdo do df, não seja necessário rodar todo o código novamente\n",
    "df1 = df_raw.copy()"
   ]
  },
  {
   "cell_type": "markdown",
   "id": "spare-accounting",
   "metadata": {
    "tags": []
   },
   "source": [
    "## 1.1. Rename Columns"
   ]
  },
  {
   "cell_type": "code",
   "execution_count": 42,
   "id": "concrete-brooks",
   "metadata": {
    "execution": {
     "iopub.execute_input": "2021-04-14T10:57:36.418306Z",
     "iopub.status.busy": "2021-04-14T10:57:36.418306Z",
     "iopub.status.idle": "2021-04-14T10:57:36.425306Z",
     "shell.execute_reply": "2021-04-14T10:57:36.424306Z",
     "shell.execute_reply.started": "2021-04-14T10:57:36.418306Z"
    },
    "tags": []
   },
   "outputs": [],
   "source": [
    "cols_old = ['Store', 'DayOfWeek', 'Date', 'Sales', 'Customers', 'Open', 'Promo','StateHoliday', 'SchoolHoliday', 'StoreType', 'Assortment',\n",
    "            'CompetitionDistance', 'CompetitionOpenSinceMonth','CompetitionOpenSinceYear', 'Promo2', 'Promo2SinceWeek','Promo2SinceYear', 'PromoInterval']\n",
    "\n",
    "snakecase = lambda x: inflection.underscore(x)\n",
    "cols_new = list(map(snakecase,cols_old))\n",
    "df1.columns = cols_new"
   ]
  },
  {
   "cell_type": "code",
   "execution_count": null,
   "id": "proprietary-democracy",
   "metadata": {},
   "outputs": [],
   "source": []
  },
  {
   "cell_type": "markdown",
   "id": "current-float",
   "metadata": {
    "tags": []
   },
   "source": [
    "## 1.2 Data Dimensions"
   ]
  },
  {
   "cell_type": "code",
   "execution_count": 43,
   "id": "bottom-opportunity",
   "metadata": {
    "execution": {
     "iopub.execute_input": "2021-04-14T10:57:36.426306Z",
     "iopub.status.busy": "2021-04-14T10:57:36.426306Z",
     "iopub.status.idle": "2021-04-14T10:57:36.442306Z",
     "shell.execute_reply": "2021-04-14T10:57:36.441306Z",
     "shell.execute_reply.started": "2021-04-14T10:57:36.426306Z"
    },
    "tags": []
   },
   "outputs": [
    {
     "name": "stdout",
     "output_type": "stream",
     "text": [
      "Number of Rows: 1017209\n",
      "Number of Columns: 18\n"
     ]
    }
   ],
   "source": [
    "# imprimir o número de linhas e colunas usando 2 maneiras de interpolar strings\n",
    "print(f'Number of Rows: {df1.shape[0]}')\n",
    "print('Number of Columns: {}'.format(df1.shape[1]))"
   ]
  },
  {
   "cell_type": "markdown",
   "id": "hazardous-entertainment",
   "metadata": {},
   "source": [
    "## 1.3 Data Types"
   ]
  },
  {
   "cell_type": "code",
   "execution_count": 44,
   "id": "executed-class",
   "metadata": {
    "execution": {
     "iopub.execute_input": "2021-04-14T10:57:36.443306Z",
     "iopub.status.busy": "2021-04-14T10:57:36.443306Z",
     "iopub.status.idle": "2021-04-14T10:57:36.638306Z",
     "shell.execute_reply": "2021-04-14T10:57:36.638306Z",
     "shell.execute_reply.started": "2021-04-14T10:57:36.443306Z"
    },
    "tags": []
   },
   "outputs": [
    {
     "data": {
      "text/plain": [
       "store                                    int64\n",
       "day_of_week                              int64\n",
       "date                            datetime64[ns]\n",
       "sales                                    int64\n",
       "customers                                int64\n",
       "open                                     int64\n",
       "promo                                    int64\n",
       "state_holiday                           object\n",
       "school_holiday                           int64\n",
       "store_type                              object\n",
       "assortment                              object\n",
       "competition_distance                   float64\n",
       "competition_open_since_month           float64\n",
       "competition_open_since_year            float64\n",
       "promo2                                   int64\n",
       "promo2_since_week                      float64\n",
       "promo2_since_year                      float64\n",
       "promo_interval                          object\n",
       "dtype: object"
      ]
     },
     "execution_count": 44,
     "metadata": {},
     "output_type": "execute_result"
    }
   ],
   "source": [
    "# inicialmente, o date é object\n",
    "# deve-se alterar o tipo do date\n",
    "df1['date'] = pd.to_datetime(df1['date'])\n",
    "\n",
    "df1.dtypes"
   ]
  },
  {
   "cell_type": "markdown",
   "id": "nearby-visit",
   "metadata": {
    "tags": []
   },
   "source": [
    "## 1.4 Check NA"
   ]
  },
  {
   "cell_type": "code",
   "execution_count": 45,
   "id": "tribal-movement",
   "metadata": {
    "execution": {
     "iopub.execute_input": "2021-04-14T10:57:36.640306Z",
     "iopub.status.busy": "2021-04-14T10:57:36.639306Z",
     "iopub.status.idle": "2021-04-14T10:57:36.860306Z",
     "shell.execute_reply": "2021-04-14T10:57:36.860306Z",
     "shell.execute_reply.started": "2021-04-14T10:57:36.640306Z"
    },
    "tags": []
   },
   "outputs": [
    {
     "data": {
      "text/plain": [
       "store                                0\n",
       "day_of_week                          0\n",
       "date                                 0\n",
       "sales                                0\n",
       "customers                            0\n",
       "open                                 0\n",
       "promo                                0\n",
       "state_holiday                        0\n",
       "school_holiday                       0\n",
       "store_type                           0\n",
       "assortment                           0\n",
       "competition_distance              2642\n",
       "competition_open_since_month    323348\n",
       "competition_open_since_year     323348\n",
       "promo2                               0\n",
       "promo2_since_week               508031\n",
       "promo2_since_year               508031\n",
       "promo_interval                  508031\n",
       "dtype: int64"
      ]
     },
     "execution_count": 45,
     "metadata": {},
     "output_type": "execute_result"
    }
   ],
   "source": [
    "df1.isna().sum()"
   ]
  },
  {
   "cell_type": "code",
   "execution_count": 46,
   "id": "fresh-elements",
   "metadata": {
    "execution": {
     "iopub.execute_input": "2021-04-14T10:57:36.863306Z",
     "iopub.status.busy": "2021-04-14T10:57:36.863306Z",
     "iopub.status.idle": "2021-04-14T10:57:36.882306Z",
     "shell.execute_reply": "2021-04-14T10:57:36.882306Z",
     "shell.execute_reply.started": "2021-04-14T10:57:36.863306Z"
    }
   },
   "outputs": [
    {
     "data": {
      "text/plain": [
       "1    509178\n",
       "0    508031\n",
       "Name: promo2, dtype: int64"
      ]
     },
     "execution_count": 46,
     "metadata": {},
     "output_type": "execute_result"
    }
   ],
   "source": [
    "df1[\"promo2\"].value_counts()"
   ]
  },
  {
   "cell_type": "markdown",
   "id": "fatty-theta",
   "metadata": {
    "tags": []
   },
   "source": [
    "## 1.5 Fillout NA"
   ]
  },
  {
   "cell_type": "markdown",
   "id": "bright-sweet",
   "metadata": {},
   "source": [
    "Existem 3 métodos principais: <br>\n",
    "    - Removo todas as linhas com NA, que possui a imensa desvantagem de perder muita informação\n",
    "    - Uso algum algoritmo para preencher os dados NA, como média, mediana ou algum ML para estimar os valores\n",
    "    - Entender a razão pela qual é NA; sempre devo começar por este método, pois eventualmente o NA era esperado\n",
    "    "
   ]
  },
  {
   "cell_type": "code",
   "execution_count": 47,
   "id": "assisted-horizon",
   "metadata": {
    "execution": {
     "iopub.execute_input": "2021-04-14T10:57:36.885306Z",
     "iopub.status.busy": "2021-04-14T10:57:36.885306Z",
     "iopub.status.idle": "2021-04-14T10:57:37.202306Z",
     "shell.execute_reply": "2021-04-14T10:57:37.202306Z",
     "shell.execute_reply.started": "2021-04-14T10:57:36.885306Z"
    },
    "tags": []
   },
   "outputs": [
    {
     "data": {
      "text/plain": [
       "622    942\n",
       "291    942\n",
       "879    758\n",
       "Name: store, dtype: int64"
      ]
     },
     "metadata": {},
     "output_type": "display_data"
    },
    {
     "name": "stdout",
     "output_type": "stream",
     "text": [
      "\n",
      "\n",
      "942\n",
      "942\n",
      "758\n",
      "\n",
      "\n",
      "75860.0\n",
      "\n",
      "\n",
      "Após a modificação, agora há 0 valor faltante\n"
     ]
    }
   ],
   "source": [
    "#competition_distance: distance in meters to the nearest competitor store\n",
    "\n",
    "# o código abaixo revela que existem 3 lojas (622, 291 e 879) que possuem esta coluna em branco\n",
    "stores = df1[df1[\"competition_distance\"].isna()][\"store\"].value_counts()\n",
    "display(stores)\n",
    "print(\"\\n\")\n",
    "\n",
    "# o código abaixo revela que existem as mesmas quantidades de linhas que trazem os dados destas stores em relação\n",
    "# à quantidade de linhas com o valor da distância do competidor mais próximo\n",
    "for store in stores.index:\n",
    "    print(df1[df1[\"store\"] == store].shape[0])\n",
    "print(\"\\n\")  \n",
    "    \n",
    "# portanto, é razoável assumir que este valor NA para a competition distance significa que não há loja competidora próxima\n",
    "# será então substituída por um vlaor muito maior que a distância máxima\n",
    "# antes, precisamos saber o a distância máxima presente no dataset\n",
    "print((df1[\"competition_distance\"].max()))\n",
    "print(\"\\n\") \n",
    "\n",
    "# sabendo que a distância máximo é 75860, podemos substituir por 200.000, por exemplo\n",
    "df1[\"competition_distance\"] = df1[\"competition_distance\"].fillna(200000)\n",
    "\n",
    "# finalmente, checando se atribuiu corretamente\n",
    "print(\"Após a modificação, agora há \" + str(df1[\"competition_distance\"].isna().sum()) + \" valor faltante\")"
   ]
  },
  {
   "cell_type": "code",
   "execution_count": 48,
   "id": "thirty-sphere",
   "metadata": {
    "execution": {
     "iopub.execute_input": "2021-04-14T10:57:37.205306Z",
     "iopub.status.busy": "2021-04-14T10:57:37.204306Z",
     "iopub.status.idle": "2021-04-14T10:58:47.045306Z",
     "shell.execute_reply": "2021-04-14T10:58:47.045306Z",
     "shell.execute_reply.started": "2021-04-14T10:57:37.205306Z"
    },
    "tags": []
   },
   "outputs": [],
   "source": [
    "#competition_open_since_month:  gives the approximate year and month of the time the nearest competitor was opened\n",
    "\n",
    "# para a primeira interação do CRISP, para aquelas lojas que eu não tenho a informação sobre quando a loja competidora abriu,\n",
    "# vou simplesmente alocar o mesmo mês da linha de venda. Mesmo não sendo lógico, se for preciso na segunda interação do método CRISP\n",
    "# poderei alterar esta atribuição.\n",
    "# um motivo para essa suposição é que o mês e ano que uma loja competidora abriu pode significar um evento no comportamento de vendas\n",
    "# tal evento pode ser detectado lá no feature selection\n",
    "# logo, se o mês e ano da loja competidora \"acompanham\" o mês e ano da data da venda, não haverá nenhuma consequência nas vendas para as linhas que\n",
    "# inicialmente estavam NA\n",
    "\n",
    "\n",
    "x = lambda x: x[\"date\"].month if math.isnan(x[\"competition_open_since_month\"]) else x[\"competition_open_since_month\"]\n",
    "df1[\"competition_open_since_month\"] = df1.apply(x, axis=1)\n",
    "\n",
    "# o mesmo raciocínio para o \"competition_open_since_month\" vale para o \"competition_open_since_year\", promo2_since_week e promo2_since_year\n",
    "#competition_open_since_year\n",
    "x = lambda x: x[\"date\"].year if math.isnan(x[\"competition_open_since_year\"]) else x[\"competition_open_since_year\"]\n",
    "df1[\"competition_open_since_year\"] = df1.apply(x, axis=1)\n",
    "\n",
    "#promo2_since_week\n",
    "x = lambda x: x[\"date\"].week if math.isnan(x[\"promo2_since_week\"]) else x[\"promo2_since_week\"]\n",
    "df1[\"promo2_since_week\"] = df1.apply(x, axis=1)\n",
    "\n",
    "#promo2_since_year\n",
    "x = lambda x: x[\"date\"].year if math.isnan(x[\"promo2_since_year\"]) else x[\"promo2_since_year\"]\n",
    "df1[\"promo2_since_year\"] = df1.apply(x, axis=1)\n"
   ]
  },
  {
   "cell_type": "code",
   "execution_count": 49,
   "id": "canadian-duplicate",
   "metadata": {
    "execution": {
     "iopub.execute_input": "2021-04-14T10:58:47.047306Z",
     "iopub.status.busy": "2021-04-14T10:58:47.047306Z",
     "iopub.status.idle": "2021-04-14T10:59:00.240306Z",
     "shell.execute_reply": "2021-04-14T10:59:00.239306Z",
     "shell.execute_reply.started": "2021-04-14T10:58:47.047306Z"
    },
    "tags": []
   },
   "outputs": [],
   "source": [
    "#promo_interval: describes the consecutive intervals Promo2 is started, naming the months the promotion is started anew. \n",
    "#E.g. \"Feb,May,Aug,Nov\" means each round starts in February, May, August, November of any given year for that store\n",
    "\n",
    "# para a primeira rodada do CRISP, será atribuído o valor 0 (zero) para os dados faltantes da coluna \"promo_interval\"\n",
    "df1[\"promo_interval\"].fillna(0, inplace = True)\n",
    "\n",
    "# a seguir, será verificado se o mês da data da linha é mês de início de rodada da promo2 e atribuído à nova coluna \"is_promo:\n",
    "# 0 (quando não é mês de de início) ou 1 (quando é mês de início)\n",
    "month_map = {1: \"Jan\", 2: \"Feb\", 3: \"Mar\", 4: \"Apr\", 5: \"May\", 6: \"Jun\", 7: \"Jul\", 8: \"Aug\",9: \"Sept\", 10: \"Oct\", 11: \"Nov\",12: \"Dec\"}\n",
    "df1[\"month_map\"] = df1[\"date\"].dt.month.map(month_map)\n",
    "\n",
    "# escrevi 2 maneiras de executar a função que popula a nova coluna \"is_promo\"\n",
    "# a primeira demora +10 min e por isso foi inteiramente comentada:\n",
    "\n",
    "#def isPromo(df):\n",
    "#    if df[\"promo_interval\"] == 0:\n",
    "#        df[\"is_promo\"] = 0\n",
    "#    else:\n",
    "#        if df[\"month_map\"] in df[\"promo_interval\"].split(','):\n",
    "#            df[\"is_promo\"] = 1\n",
    "#        else:\n",
    "#            df[\"is_promo\"] = 0\n",
    "#    return df\n",
    "            \n",
    "# df1[\"is_promo\"] = df1[[\"promo_interval\",\"month_map\"]].apply(isPromo, axis = 1)[\"is_promo\"]\n",
    "# Last executed at 2021-04-08 09:14:02 in 13m 57.15s\n",
    "\n",
    "\n",
    "# a segunda demora menos de 15 segundos:\n",
    "df1[\"is_promo\"] = df1[[\"promo_interval\",\"month_map\"]].apply(lambda x: 0 if x[\"promo_interval\"] == 0 else 1 if x[\"month_map\"] in x[\"promo_interval\"].split(',') else 0, axis = 1)\n",
    "# Last executed at 2021-04-08 08:53:43 in 11.97s"
   ]
  },
  {
   "cell_type": "code",
   "execution_count": 50,
   "id": "aggregate-advertising",
   "metadata": {
    "execution": {
     "iopub.execute_input": "2021-04-14T10:59:00.242306Z",
     "iopub.status.busy": "2021-04-14T10:59:00.241306Z",
     "iopub.status.idle": "2021-04-14T10:59:00.510306Z",
     "shell.execute_reply": "2021-04-14T10:59:00.510306Z",
     "shell.execute_reply.started": "2021-04-14T10:59:00.242306Z"
    },
    "tags": []
   },
   "outputs": [
    {
     "data": {
      "text/plain": [
       "store                           0\n",
       "day_of_week                     0\n",
       "date                            0\n",
       "sales                           0\n",
       "customers                       0\n",
       "open                            0\n",
       "promo                           0\n",
       "state_holiday                   0\n",
       "school_holiday                  0\n",
       "store_type                      0\n",
       "assortment                      0\n",
       "competition_distance            0\n",
       "competition_open_since_month    0\n",
       "competition_open_since_year     0\n",
       "promo2                          0\n",
       "promo2_since_week               0\n",
       "promo2_since_year               0\n",
       "promo_interval                  0\n",
       "month_map                       0\n",
       "is_promo                        0\n",
       "dtype: int64"
      ]
     },
     "execution_count": 50,
     "metadata": {},
     "output_type": "execute_result"
    }
   ],
   "source": [
    "# confirma que todos os dados faltantes foram tratados\n",
    "df1.isna().sum()"
   ]
  },
  {
   "cell_type": "markdown",
   "id": "healthy-analysis",
   "metadata": {},
   "source": [
    "## 1.6 Change Types\n"
   ]
  },
  {
   "cell_type": "code",
   "execution_count": 51,
   "id": "transparent-absence",
   "metadata": {
    "execution": {
     "iopub.execute_input": "2021-04-14T10:59:00.512306Z",
     "iopub.status.busy": "2021-04-14T10:59:00.512306Z",
     "iopub.status.idle": "2021-04-14T10:59:00.519306Z",
     "shell.execute_reply": "2021-04-14T10:59:00.518306Z",
     "shell.execute_reply.started": "2021-04-14T10:59:00.512306Z"
    }
   },
   "outputs": [
    {
     "data": {
      "text/plain": [
       "store                                    int64\n",
       "day_of_week                              int64\n",
       "date                            datetime64[ns]\n",
       "sales                                    int64\n",
       "customers                                int64\n",
       "open                                     int64\n",
       "promo                                    int64\n",
       "state_holiday                           object\n",
       "school_holiday                           int64\n",
       "store_type                              object\n",
       "assortment                              object\n",
       "competition_distance                   float64\n",
       "competition_open_since_month           float64\n",
       "competition_open_since_year            float64\n",
       "promo2                                   int64\n",
       "promo2_since_week                      float64\n",
       "promo2_since_year                      float64\n",
       "promo_interval                          object\n",
       "month_map                               object\n",
       "is_promo                                 int64\n",
       "dtype: object"
      ]
     },
     "execution_count": 51,
     "metadata": {},
     "output_type": "execute_result"
    }
   ],
   "source": [
    "# as operações realizadas em 1.5 podem ter mudado os tipos das colunas.\n",
    "# por isso é importante checar novamente\n",
    "df1.dtypes"
   ]
  },
  {
   "cell_type": "code",
   "execution_count": 52,
   "id": "classified-scottish",
   "metadata": {
    "execution": {
     "iopub.execute_input": "2021-04-14T10:59:00.521306Z",
     "iopub.status.busy": "2021-04-14T10:59:00.520306Z",
     "iopub.status.idle": "2021-04-14T10:59:00.627306Z",
     "shell.execute_reply": "2021-04-14T10:59:00.627306Z",
     "shell.execute_reply.started": "2021-04-14T10:59:00.521306Z"
    },
    "tags": []
   },
   "outputs": [],
   "source": [
    "# mudar o tipo das colunas que tem semana, mês e ano\n",
    "df1[\"competition_open_since_month\"] = df1[\"competition_open_since_month\"].astype(int)\n",
    "df1[\"competition_open_since_year\"] = df1[\"competition_open_since_year\"].astype(int)\n",
    "df1[\"promo2_since_week\"] = df1[\"promo2_since_week\"].astype(int)\n",
    "df1[\"promo2_since_year\"] = df1[\"promo2_since_year\"].astype(int)\n",
    "\n",
    "# a princípio não há nenhum problema em deixar algumas colunas como int32 e outras como int64\n",
    "# caso seja necessária a conversão: valor_64 = np.int64(valor_a_ser_convertido)"
   ]
  },
  {
   "cell_type": "markdown",
   "id": "incident-thompson",
   "metadata": {
    "tags": []
   },
   "source": [
    "## 1.7 Descriptive Statistical"
   ]
  },
  {
   "cell_type": "markdown",
   "id": "processed-trouble",
   "metadata": {},
   "source": [
    "Métricas: <br>\n",
    "* Tendência central: média, mediana\n",
    "* Dispersão: variância, desvio padrão, amplitude\n",
    "\n",
    "Embora a estatística descritiva seja compatível com dados numéricos e categóricos, a forma de construção é diferente. Portanto, preciso separar em dados numéricos e dados categóricos."
   ]
  },
  {
   "cell_type": "code",
   "execution_count": 53,
   "id": "aggregate-jordan",
   "metadata": {
    "execution": {
     "iopub.execute_input": "2021-04-14T10:59:00.628306Z",
     "iopub.status.busy": "2021-04-14T10:59:00.628306Z",
     "iopub.status.idle": "2021-04-14T10:59:00.909306Z",
     "shell.execute_reply": "2021-04-14T10:59:00.908306Z",
     "shell.execute_reply.started": "2021-04-14T10:59:00.628306Z"
    }
   },
   "outputs": [],
   "source": [
    "num_attributes = df1.select_dtypes(include=['int32', 'int64', 'float64'])\n",
    "cat_attributes = df1.select_dtypes(exclude=['int32', 'int64', 'float64','datetime64[ns]'])"
   ]
  },
  {
   "cell_type": "markdown",
   "id": "geographic-arthritis",
   "metadata": {
    "tags": []
   },
   "source": [
    "### 1.7.1 Numerical Attributes"
   ]
  },
  {
   "cell_type": "code",
   "execution_count": 54,
   "id": "entertaining-graham",
   "metadata": {
    "execution": {
     "iopub.execute_input": "2021-04-14T10:59:00.910306Z",
     "iopub.status.busy": "2021-04-14T10:59:00.910306Z",
     "iopub.status.idle": "2021-04-14T10:59:02.439306Z",
     "shell.execute_reply": "2021-04-14T10:59:02.439306Z",
     "shell.execute_reply.started": "2021-04-14T10:59:00.910306Z"
    },
    "tags": []
   },
   "outputs": [],
   "source": [
    "# mean, median\n",
    "ct1 = pd.DataFrame(num_attributes.apply(np.mean)).T\n",
    "ct2 = pd.DataFrame(num_attributes.apply(np.median)).T\n",
    "\n",
    "# std, min, max, range, skew, kurtosis\n",
    "d1 = pd.DataFrame(num_attributes.apply(np.std)).T\n",
    "d2 = pd.DataFrame(num_attributes.apply(np.min)).T\n",
    "d3 = pd.DataFrame(num_attributes.apply(np.max)).T\n",
    "d4 = pd.DataFrame(num_attributes.apply(lambda x: x.max() - x.min() )).T\n",
    "d5 = pd.DataFrame(num_attributes.skew()).T\n",
    "d6 = pd.DataFrame(num_attributes.kurtosis()).T\n",
    "\n",
    "# concat\n",
    "metrics = pd.concat([d2, d3, d4, ct1, ct2, d1, d5, d6]).T.reset_index()\n",
    "metrics.columns = ['attributes', 'min','max','range','mean','median','std','skew','kurtosis']\n"
   ]
  },
  {
   "cell_type": "code",
   "execution_count": 55,
   "id": "killing-privacy",
   "metadata": {
    "execution": {
     "iopub.execute_input": "2021-04-14T10:59:02.441306Z",
     "iopub.status.busy": "2021-04-14T10:59:02.440306Z",
     "iopub.status.idle": "2021-04-14T10:59:02.465306Z",
     "shell.execute_reply": "2021-04-14T10:59:02.464306Z",
     "shell.execute_reply.started": "2021-04-14T10:59:02.441306Z"
    },
    "tags": []
   },
   "outputs": [
    {
     "data": {
      "text/html": [
       "<div>\n",
       "<style scoped>\n",
       "    .dataframe tbody tr th:only-of-type {\n",
       "        vertical-align: middle;\n",
       "    }\n",
       "\n",
       "    .dataframe tbody tr th {\n",
       "        vertical-align: top;\n",
       "    }\n",
       "\n",
       "    .dataframe thead th {\n",
       "        text-align: right;\n",
       "    }\n",
       "</style>\n",
       "<table border=\"1\" class=\"dataframe\">\n",
       "  <thead>\n",
       "    <tr style=\"text-align: right;\">\n",
       "      <th></th>\n",
       "      <th>attributes</th>\n",
       "      <th>min</th>\n",
       "      <th>max</th>\n",
       "      <th>range</th>\n",
       "      <th>mean</th>\n",
       "      <th>median</th>\n",
       "      <th>std</th>\n",
       "      <th>skew</th>\n",
       "      <th>kurtosis</th>\n",
       "    </tr>\n",
       "  </thead>\n",
       "  <tbody>\n",
       "    <tr>\n",
       "      <th>0</th>\n",
       "      <td>store</td>\n",
       "      <td>1.0</td>\n",
       "      <td>1115.0</td>\n",
       "      <td>1114.0</td>\n",
       "      <td>558.429727</td>\n",
       "      <td>558.0</td>\n",
       "      <td>321.908493</td>\n",
       "      <td>-0.000955</td>\n",
       "      <td>-1.200524</td>\n",
       "    </tr>\n",
       "    <tr>\n",
       "      <th>1</th>\n",
       "      <td>day_of_week</td>\n",
       "      <td>1.0</td>\n",
       "      <td>7.0</td>\n",
       "      <td>6.0</td>\n",
       "      <td>3.998341</td>\n",
       "      <td>4.0</td>\n",
       "      <td>1.997390</td>\n",
       "      <td>0.001593</td>\n",
       "      <td>-1.246873</td>\n",
       "    </tr>\n",
       "    <tr>\n",
       "      <th>2</th>\n",
       "      <td>sales</td>\n",
       "      <td>0.0</td>\n",
       "      <td>41551.0</td>\n",
       "      <td>41551.0</td>\n",
       "      <td>5773.818972</td>\n",
       "      <td>5744.0</td>\n",
       "      <td>3849.924283</td>\n",
       "      <td>0.641460</td>\n",
       "      <td>1.778375</td>\n",
       "    </tr>\n",
       "    <tr>\n",
       "      <th>3</th>\n",
       "      <td>customers</td>\n",
       "      <td>0.0</td>\n",
       "      <td>7388.0</td>\n",
       "      <td>7388.0</td>\n",
       "      <td>633.145946</td>\n",
       "      <td>609.0</td>\n",
       "      <td>464.411506</td>\n",
       "      <td>1.598650</td>\n",
       "      <td>7.091773</td>\n",
       "    </tr>\n",
       "    <tr>\n",
       "      <th>4</th>\n",
       "      <td>open</td>\n",
       "      <td>0.0</td>\n",
       "      <td>1.0</td>\n",
       "      <td>1.0</td>\n",
       "      <td>0.830107</td>\n",
       "      <td>1.0</td>\n",
       "      <td>0.375539</td>\n",
       "      <td>-1.758045</td>\n",
       "      <td>1.090723</td>\n",
       "    </tr>\n",
       "    <tr>\n",
       "      <th>5</th>\n",
       "      <td>promo</td>\n",
       "      <td>0.0</td>\n",
       "      <td>1.0</td>\n",
       "      <td>1.0</td>\n",
       "      <td>0.381515</td>\n",
       "      <td>0.0</td>\n",
       "      <td>0.485758</td>\n",
       "      <td>0.487838</td>\n",
       "      <td>-1.762018</td>\n",
       "    </tr>\n",
       "    <tr>\n",
       "      <th>6</th>\n",
       "      <td>school_holiday</td>\n",
       "      <td>0.0</td>\n",
       "      <td>1.0</td>\n",
       "      <td>1.0</td>\n",
       "      <td>0.178647</td>\n",
       "      <td>0.0</td>\n",
       "      <td>0.383056</td>\n",
       "      <td>1.677842</td>\n",
       "      <td>0.815154</td>\n",
       "    </tr>\n",
       "    <tr>\n",
       "      <th>7</th>\n",
       "      <td>competition_distance</td>\n",
       "      <td>20.0</td>\n",
       "      <td>200000.0</td>\n",
       "      <td>199980.0</td>\n",
       "      <td>5935.442677</td>\n",
       "      <td>2330.0</td>\n",
       "      <td>12547.646829</td>\n",
       "      <td>10.242344</td>\n",
       "      <td>147.789712</td>\n",
       "    </tr>\n",
       "    <tr>\n",
       "      <th>8</th>\n",
       "      <td>competition_open_since_month</td>\n",
       "      <td>1.0</td>\n",
       "      <td>12.0</td>\n",
       "      <td>11.0</td>\n",
       "      <td>6.786849</td>\n",
       "      <td>7.0</td>\n",
       "      <td>3.311085</td>\n",
       "      <td>-0.042076</td>\n",
       "      <td>-1.232607</td>\n",
       "    </tr>\n",
       "    <tr>\n",
       "      <th>9</th>\n",
       "      <td>competition_open_since_year</td>\n",
       "      <td>1900.0</td>\n",
       "      <td>2015.0</td>\n",
       "      <td>115.0</td>\n",
       "      <td>2010.324840</td>\n",
       "      <td>2012.0</td>\n",
       "      <td>5.515591</td>\n",
       "      <td>-7.235657</td>\n",
       "      <td>124.071304</td>\n",
       "    </tr>\n",
       "    <tr>\n",
       "      <th>10</th>\n",
       "      <td>promo2</td>\n",
       "      <td>0.0</td>\n",
       "      <td>1.0</td>\n",
       "      <td>1.0</td>\n",
       "      <td>0.500564</td>\n",
       "      <td>1.0</td>\n",
       "      <td>0.500000</td>\n",
       "      <td>-0.002255</td>\n",
       "      <td>-1.999999</td>\n",
       "    </tr>\n",
       "    <tr>\n",
       "      <th>11</th>\n",
       "      <td>promo2_since_week</td>\n",
       "      <td>1.0</td>\n",
       "      <td>52.0</td>\n",
       "      <td>51.0</td>\n",
       "      <td>23.619033</td>\n",
       "      <td>22.0</td>\n",
       "      <td>14.310057</td>\n",
       "      <td>0.178723</td>\n",
       "      <td>-1.184046</td>\n",
       "    </tr>\n",
       "    <tr>\n",
       "      <th>12</th>\n",
       "      <td>promo2_since_year</td>\n",
       "      <td>2009.0</td>\n",
       "      <td>2015.0</td>\n",
       "      <td>6.0</td>\n",
       "      <td>2012.793297</td>\n",
       "      <td>2013.0</td>\n",
       "      <td>1.662657</td>\n",
       "      <td>-0.784436</td>\n",
       "      <td>-0.210075</td>\n",
       "    </tr>\n",
       "    <tr>\n",
       "      <th>13</th>\n",
       "      <td>is_promo</td>\n",
       "      <td>0.0</td>\n",
       "      <td>1.0</td>\n",
       "      <td>1.0</td>\n",
       "      <td>0.171835</td>\n",
       "      <td>0.0</td>\n",
       "      <td>0.377237</td>\n",
       "      <td>1.739838</td>\n",
       "      <td>1.027039</td>\n",
       "    </tr>\n",
       "  </tbody>\n",
       "</table>\n",
       "</div>"
      ],
      "text/plain": [
       "                      attributes     min       max     range         mean  \\\n",
       "0                          store     1.0    1115.0    1114.0   558.429727   \n",
       "1                    day_of_week     1.0       7.0       6.0     3.998341   \n",
       "2                          sales     0.0   41551.0   41551.0  5773.818972   \n",
       "3                      customers     0.0    7388.0    7388.0   633.145946   \n",
       "4                           open     0.0       1.0       1.0     0.830107   \n",
       "5                          promo     0.0       1.0       1.0     0.381515   \n",
       "6                 school_holiday     0.0       1.0       1.0     0.178647   \n",
       "7           competition_distance    20.0  200000.0  199980.0  5935.442677   \n",
       "8   competition_open_since_month     1.0      12.0      11.0     6.786849   \n",
       "9    competition_open_since_year  1900.0    2015.0     115.0  2010.324840   \n",
       "10                        promo2     0.0       1.0       1.0     0.500564   \n",
       "11             promo2_since_week     1.0      52.0      51.0    23.619033   \n",
       "12             promo2_since_year  2009.0    2015.0       6.0  2012.793297   \n",
       "13                      is_promo     0.0       1.0       1.0     0.171835   \n",
       "\n",
       "    median           std       skew    kurtosis  \n",
       "0    558.0    321.908493  -0.000955   -1.200524  \n",
       "1      4.0      1.997390   0.001593   -1.246873  \n",
       "2   5744.0   3849.924283   0.641460    1.778375  \n",
       "3    609.0    464.411506   1.598650    7.091773  \n",
       "4      1.0      0.375539  -1.758045    1.090723  \n",
       "5      0.0      0.485758   0.487838   -1.762018  \n",
       "6      0.0      0.383056   1.677842    0.815154  \n",
       "7   2330.0  12547.646829  10.242344  147.789712  \n",
       "8      7.0      3.311085  -0.042076   -1.232607  \n",
       "9   2012.0      5.515591  -7.235657  124.071304  \n",
       "10     1.0      0.500000  -0.002255   -1.999999  \n",
       "11    22.0     14.310057   0.178723   -1.184046  \n",
       "12  2013.0      1.662657  -0.784436   -0.210075  \n",
       "13     0.0      0.377237   1.739838    1.027039  "
      ]
     },
     "execution_count": 55,
     "metadata": {},
     "output_type": "execute_result"
    }
   ],
   "source": [
    "metrics"
   ]
  },
  {
   "cell_type": "code",
   "execution_count": 56,
   "id": "liquid-content",
   "metadata": {
    "execution": {
     "iopub.execute_input": "2021-04-14T10:59:02.467306Z",
     "iopub.status.busy": "2021-04-14T10:59:02.466306Z",
     "iopub.status.idle": "2021-04-14T10:59:04.133306Z",
     "shell.execute_reply": "2021-04-14T10:59:04.133306Z",
     "shell.execute_reply.started": "2021-04-14T10:59:02.467306Z"
    },
    "tags": []
   },
   "outputs": [
    {
     "data": {
      "text/plain": [
       "<AxesSubplot:xlabel='sales', ylabel='Count'>"
      ]
     },
     "execution_count": 56,
     "metadata": {},
     "output_type": "execute_result"
    },
    {
     "data": {
      "image/png": "[encoded data removed]",
      "text/plain": [
       "<Figure size 432x288 with 1 Axes>"
      ]
     },
     "metadata": {
      "needs_background": "light"
     },
     "output_type": "display_data"
    }
   ],
   "source": [
    "sns.histplot(df1[\"sales\"])"
   ]
  },
  {
   "cell_type": "code",
   "execution_count": 57,
   "id": "oriented-firewall",
   "metadata": {
    "execution": {
     "iopub.execute_input": "2021-04-14T10:59:04.135306Z",
     "iopub.status.busy": "2021-04-14T10:59:04.135306Z",
     "iopub.status.idle": "2021-04-14T10:59:07.992306Z",
     "shell.execute_reply": "2021-04-14T10:59:07.992306Z",
     "shell.execute_reply.started": "2021-04-14T10:59:04.135306Z"
    },
    "tags": []
   },
   "outputs": [
    {
     "data": {
      "text/plain": [
       "<seaborn.axisgrid.FacetGrid at 0x1bcaefc8>"
      ]
     },
     "execution_count": 57,
     "metadata": {},
     "output_type": "execute_result"
    },
    {
     "data": {
      "image/png": "[encoded data removed]",
      "text/plain": [
       "<Figure size 360x360 with 1 Axes>"
      ]
     },
     "metadata": {
      "needs_background": "light"
     },
     "output_type": "display_data"
    }
   ],
   "source": [
    "sns.displot(df1[\"competition_distance\"])"
   ]
  },
  {
   "cell_type": "code",
   "execution_count": 58,
   "id": "prepared-overall",
   "metadata": {
    "execution": {
     "iopub.execute_input": "2021-04-14T10:59:07.994306Z",
     "iopub.status.busy": "2021-04-14T10:59:07.994306Z",
     "iopub.status.idle": "2021-04-14T10:59:11.804306Z",
     "shell.execute_reply": "2021-04-14T10:59:11.803306Z",
     "shell.execute_reply.started": "2021-04-14T10:59:07.994306Z"
    }
   },
   "outputs": [
    {
     "data": {
      "text/plain": [
       "<seaborn.axisgrid.FacetGrid at 0x1cc65908>"
      ]
     },
     "execution_count": 58,
     "metadata": {},
     "output_type": "execute_result"
    },
    {
     "data": {
      "image/png": "[encoded data removed]",
      "text/plain": [
       "<Figure size 360x360 with 1 Axes>"
      ]
     },
     "metadata": {
      "needs_background": "light"
     },
     "output_type": "display_data"
    }
   ],
   "source": [
    "sns.displot(df1[\"competition_distance\"])"
   ]
  },
  {
   "cell_type": "markdown",
   "id": "compound-diagram",
   "metadata": {},
   "source": [
    "### 1.7.2 Categorical Attributes"
   ]
  },
  {
   "cell_type": "code",
   "execution_count": 59,
   "id": "saving-lunch",
   "metadata": {
    "execution": {
     "iopub.execute_input": "2021-04-14T10:59:11.805306Z",
     "iopub.status.busy": "2021-04-14T10:59:11.804306Z",
     "iopub.status.idle": "2021-04-14T10:59:12.058306Z",
     "shell.execute_reply": "2021-04-14T10:59:12.058306Z",
     "shell.execute_reply.started": "2021-04-14T10:59:11.805306Z"
    },
    "tags": []
   },
   "outputs": [
    {
     "data": {
      "text/plain": [
       "state_holiday      4\n",
       "store_type         4\n",
       "assortment         3\n",
       "promo_interval     4\n",
       "month_map         12\n",
       "dtype: int64"
      ]
     },
     "execution_count": 59,
     "metadata": {},
     "output_type": "execute_result"
    }
   ],
   "source": [
    "cat_attributes.apply(lambda x: x.unique().shape[0])"
   ]
  },
  {
   "cell_type": "code",
   "execution_count": 88,
   "id": "objective-supplement",
   "metadata": {
    "execution": {
     "iopub.execute_input": "2021-04-14T12:59:06.667306Z",
     "iopub.status.busy": "2021-04-14T12:59:06.667306Z",
     "iopub.status.idle": "2021-04-14T12:59:07.295306Z",
     "shell.execute_reply": "2021-04-14T12:59:07.294306Z",
     "shell.execute_reply.started": "2021-04-14T12:59:06.667306Z"
    },
    "tags": []
   },
   "outputs": [
    {
     "data": {
      "image/png": "[encoded data removed]",
      "text/plain": [
       "<Figure size 1440x720 with 3 Axes>"
      ]
     },
     "metadata": {},
     "output_type": "display_data"
    }
   ],
   "source": [
    "aux1 = df1[(df1[\"state_holiday\"] != '0') & (df1[\"sales\"] > 0)]\n",
    "sns.set_style(\"darkgrid\")\n",
    "plt.figure(figsize=(20,10))\n",
    "\n",
    "plt.subplot(1,3,1)\n",
    "sns.boxplot(x=\"state_holiday\", y=\"sales\", data=aux1)\n",
    "\n",
    "plt.subplot(1,3,2)\n",
    "sns.boxplot(x=\"store_type\", y=\"sales\", data=aux1)\n",
    "\n",
    "plt.subplot(1,3,3)\n",
    "sns.boxplot(x=\"assortment\", y=\"sales\", data=aux1)\n",
    "\n",
    "plt.tight_layout()"
   ]
  },
  {
   "cell_type": "code",
   "execution_count": null,
   "id": "educational-canberra",
   "metadata": {},
   "outputs": [],
   "source": []
  }
 ],
 "metadata": {
  "kernelspec": {
   "display_name": "Python 3",
   "language": "python",
   "name": "python3"
  },
  "language_info": {
   "codemirror_mode": {
    "name": "ipython",
    "version": 3
   },
   "file_extension": ".py",
   "mimetype": "text/x-python",
   "name": "python",
   "nbconvert_exporter": "python",
   "pygments_lexer": "ipython3",
   "version": "3.7.10"
  },
  "toc-autonumbering": false,
  "toc-showcode": false,
  "toc-showmarkdowntxt": false,
  "toc-showtags": false
 },
 "nbformat": 4,
 "nbformat_minor": 5
}
