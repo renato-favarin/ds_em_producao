{
 "cells": [
  {
   "cell_type": "markdown",
   "id": "grateful-allergy",
   "metadata": {
    "execution": {
     "iopub.execute_input": "2021-04-14T13:34:18.426416Z",
     "iopub.status.busy": "2021-04-14T13:34:18.426416Z",
     "iopub.status.idle": "2021-04-14T13:34:18.431416Z",
     "shell.execute_reply": "2021-04-14T13:34:18.430416Z",
     "shell.execute_reply.started": "2021-04-14T13:34:18.426416Z"
    },
    "tags": []
   },
   "source": [
    "# 0.0 Tabel of Contents"
   ]
  },
  {
   "cell_type": "markdown",
   "id": "cultural-listening",
   "metadata": {},
   "source": [
    "[Fillout NA](#1.5-Fillout-NA) <br>\n",
    "[Numerical Attibutes](#1.7.1-Numerical-Attributes)"
   ]
  },
  {
   "cell_type": "markdown",
   "id": "agreed-roads",
   "metadata": {
    "slideshow": {
     "slide_type": "notes"
    },
    "tags": []
   },
   "source": [
    "# 0. IMPORTS"
   ]
  },
  {
   "cell_type": "code",
   "execution_count": 1,
   "id": "vietnamese-handy",
   "metadata": {
    "execution": {
     "iopub.execute_input": "2021-04-28T10:18:40.613000Z",
     "iopub.status.busy": "2021-04-28T10:18:40.613000Z",
     "iopub.status.idle": "2021-04-28T10:18:48.678000Z",
     "shell.execute_reply": "2021-04-28T10:18:48.678000Z",
     "shell.execute_reply.started": "2021-04-28T10:18:40.613000Z"
    },
    "scrolled": true,
    "tags": []
   },
   "outputs": [],
   "source": [
    "import pandas as pd\n",
    "import seaborn as sns\n",
    "import matplotlib.pyplot as plt\n",
    "import numpy as np\n",
    "import inflection\n",
    "import math\n",
    "import datetime as datetime\n",
    "\n",
    "from IPython.display import Image\n",
    "\n",
    "# o comando mágico abaixo é para o kernel XPython mostrar os gráficos na célula\n",
    "%matplotlib inline"
   ]
  },
  {
   "cell_type": "markdown",
   "id": "numeric-wireless",
   "metadata": {
    "heading_collapsed": "true",
    "tags": []
   },
   "source": [
    "## 0.1. Helper Functions"
   ]
  },
  {
   "cell_type": "markdown",
   "id": "chubby-research",
   "metadata": {
    "tags": []
   },
   "source": [
    "## 0.2. Loading data"
   ]
  },
  {
   "cell_type": "code",
   "execution_count": 2,
   "id": "supported-bracelet",
   "metadata": {
    "execution": {
     "iopub.execute_input": "2021-04-28T10:18:48.679000Z",
     "iopub.status.busy": "2021-04-28T10:18:48.678000Z",
     "iopub.status.idle": "2021-04-28T10:18:50.668000Z",
     "shell.execute_reply": "2021-04-28T10:18:50.667000Z",
     "shell.execute_reply.started": "2021-04-28T10:18:48.679000Z"
    },
    "tags": []
   },
   "outputs": [],
   "source": [
    "df_sales_raw = pd.read_csv( 'data/train.csv', low_memory = False)\n",
    "df_store_raw = pd.read_csv( 'data/store.csv', low_memory = False)\n",
    "\n",
    "# merge\n",
    "df_raw = pd.merge(df_sales_raw,df_store_raw, how='left', on = 'Store' )"
   ]
  },
  {
   "cell_type": "markdown",
   "id": "administrative-place",
   "metadata": {
    "tags": []
   },
   "source": [
    "# 1.0. DESCRICAO DOS DADOS"
   ]
  },
  {
   "cell_type": "code",
   "execution_count": 3,
   "id": "polar-rocket",
   "metadata": {
    "execution": {
     "iopub.execute_input": "2021-04-28T10:18:50.668000Z",
     "iopub.status.busy": "2021-04-28T10:18:50.668000Z",
     "iopub.status.idle": "2021-04-28T10:18:50.795000Z",
     "shell.execute_reply": "2021-04-28T10:18:50.795000Z",
     "shell.execute_reply.started": "2021-04-28T10:18:50.668000Z"
    },
    "tags": []
   },
   "outputs": [],
   "source": [
    "# é interessante copiar o df no início de cada seção para evitar que, caso seja alterado o conteúdo do df, não seja necessário rodar todo o código novamente\n",
    "df1 = df_raw.copy()"
   ]
  },
  {
   "cell_type": "markdown",
   "id": "designing-phase",
   "metadata": {
    "tags": []
   },
   "source": [
    "## 1.1. Rename Columns"
   ]
  },
  {
   "cell_type": "code",
   "execution_count": 4,
   "id": "acceptable-wagon",
   "metadata": {
    "execution": {
     "iopub.execute_input": "2021-04-28T10:18:50.795000Z",
     "iopub.status.busy": "2021-04-28T10:18:50.795000Z",
     "iopub.status.idle": "2021-04-28T10:18:50.800000Z",
     "shell.execute_reply": "2021-04-28T10:18:50.800000Z",
     "shell.execute_reply.started": "2021-04-28T10:18:50.795000Z"
    },
    "tags": []
   },
   "outputs": [],
   "source": [
    "cols_old = ['Store', 'DayOfWeek', 'Date', 'Sales', 'Customers', 'Open', 'Promo','StateHoliday', 'SchoolHoliday', 'StoreType', 'Assortment',\n",
    "            'CompetitionDistance', 'CompetitionOpenSinceMonth','CompetitionOpenSinceYear', 'Promo2', 'Promo2SinceWeek','Promo2SinceYear', 'PromoInterval']\n",
    "\n",
    "snakecase = lambda x: inflection.underscore(x)\n",
    "cols_new = list(map(snakecase,cols_old))\n",
    "CABECA = df1.head(30)\n",
    "df1.columns = cols_new"
   ]
  },
  {
   "cell_type": "markdown",
   "id": "experimental-nutrition",
   "metadata": {
    "tags": []
   },
   "source": [
    "## 1.2 Data Dimensions"
   ]
  },
  {
   "cell_type": "code",
   "execution_count": 5,
   "id": "median-photographer",
   "metadata": {
    "execution": {
     "iopub.execute_input": "2021-04-28T10:18:50.800000Z",
     "iopub.status.busy": "2021-04-28T10:18:50.800000Z",
     "iopub.status.idle": "2021-04-28T10:18:50.824000Z",
     "shell.execute_reply": "2021-04-28T10:18:50.824000Z",
     "shell.execute_reply.started": "2021-04-28T10:18:50.800000Z"
    },
    "tags": []
   },
   "outputs": [
    {
     "name": "stdout",
     "output_type": "stream",
     "text": [
      "Number of Rows: 1017209\n",
      "Number of Columns: 18\n"
     ]
    }
   ],
   "source": [
    "# imprimir o número de linhas e colunas usando 2 maneiras de interpolar strings\n",
    "print(f'Number of Rows: {df1.shape[0]}')\n",
    "print('Number of Columns: {}'.format(df1.shape[1]))"
   ]
  },
  {
   "cell_type": "markdown",
   "id": "metallic-bracket",
   "metadata": {},
   "source": [
    "## 1.3 Data Types"
   ]
  },
  {
   "cell_type": "code",
   "execution_count": 6,
   "id": "emerging-operations",
   "metadata": {
    "execution": {
     "iopub.execute_input": "2021-04-28T10:18:50.824000Z",
     "iopub.status.busy": "2021-04-28T10:18:50.824000Z",
     "iopub.status.idle": "2021-04-28T10:18:51.200000Z",
     "shell.execute_reply": "2021-04-28T10:18:51.200000Z",
     "shell.execute_reply.started": "2021-04-28T10:18:50.824000Z"
    },
    "tags": []
   },
   "outputs": [
    {
     "data": {
      "text/plain": [
       "store                                    int64\n",
       "day_of_week                              int64\n",
       "date                            datetime64[ns]\n",
       "sales                                    int64\n",
       "customers                                int64\n",
       "open                                     int64\n",
       "promo                                    int64\n",
       "state_holiday                           object\n",
       "school_holiday                           int64\n",
       "store_type                              object\n",
       "assortment                              object\n",
       "competition_distance                   float64\n",
       "competition_open_since_month           float64\n",
       "competition_open_since_year            float64\n",
       "promo2                                   int64\n",
       "promo2_since_week                      float64\n",
       "promo2_since_year                      float64\n",
       "promo_interval                          object\n",
       "dtype: object"
      ]
     },
     "execution_count": 6,
     "metadata": {},
     "output_type": "execute_result"
    }
   ],
   "source": [
    "# inicialmente, o date é object\n",
    "# deve-se alterar o tipo do date\n",
    "df1['date'] = pd.to_datetime(df1['date'])\n",
    "\n",
    "df1.dtypes"
   ]
  },
  {
   "cell_type": "markdown",
   "id": "spanish-tulsa",
   "metadata": {
    "tags": []
   },
   "source": [
    "## 1.4 Check NA"
   ]
  },
  {
   "cell_type": "code",
   "execution_count": 7,
   "id": "complete-sustainability",
   "metadata": {
    "execution": {
     "iopub.execute_input": "2021-04-28T10:18:51.210000Z",
     "iopub.status.busy": "2021-04-28T10:18:51.200000Z",
     "iopub.status.idle": "2021-04-28T10:18:51.259000Z",
     "shell.execute_reply": "2021-04-28T10:18:51.259000Z",
     "shell.execute_reply.started": "2021-04-28T10:18:51.21000Z"
    },
    "tags": []
   },
   "outputs": [
    {
     "data": {
      "text/plain": [
       "store                                0\n",
       "day_of_week                          0\n",
       "date                                 0\n",
       "sales                                0\n",
       "customers                            0\n",
       "open                                 0\n",
       "promo                                0\n",
       "state_holiday                        0\n",
       "school_holiday                       0\n",
       "store_type                           0\n",
       "assortment                           0\n",
       "competition_distance              2642\n",
       "competition_open_since_month    323348\n",
       "competition_open_since_year     323348\n",
       "promo2                               0\n",
       "promo2_since_week               508031\n",
       "promo2_since_year               508031\n",
       "promo_interval                  508031\n",
       "dtype: int64"
      ]
     },
     "execution_count": 7,
     "metadata": {},
     "output_type": "execute_result"
    }
   ],
   "source": [
    "df1.isna().sum()"
   ]
  },
  {
   "cell_type": "code",
   "execution_count": 8,
   "id": "accurate-hearts",
   "metadata": {
    "execution": {
     "iopub.execute_input": "2021-04-28T10:18:51.259000Z",
     "iopub.status.busy": "2021-04-28T10:18:51.259000Z",
     "iopub.status.idle": "2021-04-28T10:18:51.273000Z",
     "shell.execute_reply": "2021-04-28T10:18:51.273000Z",
     "shell.execute_reply.started": "2021-04-28T10:18:51.259000Z"
    }
   },
   "outputs": [
    {
     "data": {
      "text/plain": [
       "1    509178\n",
       "0    508031\n",
       "Name: promo2, dtype: int64"
      ]
     },
     "execution_count": 8,
     "metadata": {},
     "output_type": "execute_result"
    }
   ],
   "source": [
    "df1[\"promo2\"].value_counts()"
   ]
  },
  {
   "cell_type": "markdown",
   "id": "settled-speaking",
   "metadata": {
    "tags": []
   },
   "source": [
    "## 1.5 Fillout NA"
   ]
  },
  {
   "cell_type": "markdown",
   "id": "ongoing-jamaica",
   "metadata": {},
   "source": [
    "Existem 3 métodos principais: <br>\n",
    "    - Removo todas as linhas com NA, que possui a imensa desvantagem de perder muita informação\n",
    "    - Uso algum algoritmo para preencher os dados NA, como média, mediana ou algum ML para estimar os valores\n",
    "    - Entender a razão pela qual é NA; sempre devo começar por este método, pois eventualmente o NA era esperado\n",
    "    "
   ]
  },
  {
   "cell_type": "code",
   "execution_count": 9,
   "id": "eastern-sample",
   "metadata": {
    "execution": {
     "iopub.execute_input": "2021-04-28T10:18:51.273000Z",
     "iopub.status.busy": "2021-04-28T10:18:51.273000Z",
     "iopub.status.idle": "2021-04-28T10:18:51.606000Z",
     "shell.execute_reply": "2021-04-28T10:18:51.606000Z",
     "shell.execute_reply.started": "2021-04-28T10:18:51.273000Z"
    },
    "tags": []
   },
   "outputs": [
    {
     "data": {
      "text/plain": [
       "622    942\n",
       "291    942\n",
       "879    758\n",
       "Name: store, dtype: int64"
      ]
     },
     "metadata": {},
     "output_type": "display_data"
    },
    {
     "name": "stdout",
     "output_type": "stream",
     "text": [
      "\n",
      "\n",
      "942\n",
      "942\n",
      "758\n",
      "\n",
      "\n",
      "75860.0\n",
      "\n",
      "\n",
      "Após a modificação, agora há 0 valor faltante\n"
     ]
    }
   ],
   "source": [
    "#competition_distance: distance in meters to the nearest competitor store\n",
    "\n",
    "# o código abaixo revela que existem 3 lojas (622, 291 e 879) que possuem esta coluna em branco\n",
    "stores = df1[df1[\"competition_distance\"].isna()][\"store\"].value_counts()\n",
    "display(stores)\n",
    "print(\"\\n\")\n",
    "\n",
    "# o código abaixo revela que existem as mesmas quantidades de linhas que trazem os dados destas stores em relação\n",
    "# à quantidade de linhas com o valor da distância do competidor mais próximo\n",
    "for store in stores.index:\n",
    "    print(df1[df1[\"store\"] == store].shape[0])\n",
    "print(\"\\n\")  \n",
    "    \n",
    "# portanto, é razoável assumir que este valor NA para a competition distance significa que não há loja competidora próxima\n",
    "# será então substituída por um vlaor muito maior que a distância máxima\n",
    "# antes, precisamos saber o a distância máxima presente no dataset\n",
    "print((df1[\"competition_distance\"].max()))\n",
    "print(\"\\n\") \n",
    "\n",
    "# sabendo que a distância máximo é 75860, podemos substituir por 200.000, por exemplo\n",
    "df1[\"competition_distance\"] = df1[\"competition_distance\"].fillna(200000)\n",
    "\n",
    "# finalmente, checando se atribuiu corretamente\n",
    "print(\"Após a modificação, agora há \" + str(df1[\"competition_distance\"].isna().sum()) + \" valor faltante\")"
   ]
  },
  {
   "cell_type": "code",
   "execution_count": 10,
   "id": "rational-enzyme",
   "metadata": {
    "execution": {
     "iopub.execute_input": "2021-04-28T10:18:51.607000Z",
     "iopub.status.busy": "2021-04-28T10:18:51.607000Z",
     "iopub.status.idle": "2021-04-28T10:20:18.590000Z",
     "shell.execute_reply": "2021-04-28T10:20:18.590000Z",
     "shell.execute_reply.started": "2021-04-28T10:18:51.607000Z"
    },
    "tags": []
   },
   "outputs": [],
   "source": [
    "#competition_open_since_month:  gives the approximate year and month of the time the nearest competitor was opened\n",
    "\n",
    "# para a primeira interação do CRISP, para aquelas lojas que eu não tenho a informação sobre quando a loja competidora abriu,\n",
    "# vou simplesmente alocar o mesmo mês da linha de venda. Mesmo não sendo lógico, se for preciso na segunda interação do método CRISP\n",
    "# poderei alterar esta atribuição.\n",
    "# um motivo para essa suposição é que o mês e ano que uma loja competidora abriu pode significar um evento no comportamento de vendas\n",
    "# tal evento pode ser detectado lá no feature selection\n",
    "# logo, se o mês e ano da loja competidora \"acompanham\" o mês e ano da data da venda, não haverá nenhuma consequência nas vendas para as linhas que\n",
    "# inicialmente estavam NA\n",
    "\n",
    "\n",
    "x = lambda x: x[\"date\"].month if math.isnan(x[\"competition_open_since_month\"]) else x[\"competition_open_since_month\"]\n",
    "df1[\"competition_open_since_month\"] = df1.apply(x, axis=1)\n",
    "\n",
    "# o mesmo raciocínio para o \"competition_open_since_month\" vale para o \"competition_open_since_year\", promo2_since_week e promo2_since_year\n",
    "#competition_open_since_year\n",
    "x = lambda x: x[\"date\"].year if math.isnan(x[\"competition_open_since_year\"]) else x[\"competition_open_since_year\"]\n",
    "df1[\"competition_open_since_year\"] = df1.apply(x, axis=1)\n",
    "\n",
    "#promo2_since_week\n",
    "x = lambda x: x[\"date\"].week if math.isnan(x[\"promo2_since_week\"]) else x[\"promo2_since_week\"]\n",
    "df1[\"promo2_since_week\"] = df1.apply(x, axis=1)\n",
    "\n",
    "#promo2_since_year\n",
    "x = lambda x: x[\"date\"].year if math.isnan(x[\"promo2_since_year\"]) else x[\"promo2_since_year\"]\n",
    "df1[\"promo2_since_year\"] = df1.apply(x, axis=1)\n"
   ]
  },
  {
   "cell_type": "code",
   "execution_count": 11,
   "id": "patent-injury",
   "metadata": {
    "execution": {
     "iopub.execute_input": "2021-04-28T10:20:18.591000Z",
     "iopub.status.busy": "2021-04-28T10:20:18.591000Z",
     "iopub.status.idle": "2021-04-28T10:20:36.251000Z",
     "shell.execute_reply": "2021-04-28T10:20:36.251000Z",
     "shell.execute_reply.started": "2021-04-28T10:20:18.591000Z"
    },
    "tags": []
   },
   "outputs": [],
   "source": [
    "#promo_interval: describes the consecutive intervals Promo2 is started, naming the months the promotion is started anew. \n",
    "#E.g. \"Feb,May,Aug,Nov\" means each round starts in February, May, August, November of any given year for that store\n",
    "\n",
    "# para a primeira rodada do CRISP, será atribuído o valor 0 (zero) para os dados faltantes da coluna \"promo_interval\"\n",
    "df1[\"promo_interval\"].fillna(0, inplace = True)\n",
    "\n",
    "# a seguir, será verificado se o mês da data da linha é mês de início de rodada da promo2 e atribuído à nova coluna \"is_promo:\n",
    "# 0 (quando não é mês de de início) ou 1 (quando é mês de início)\n",
    "month_map = {1: \"Jan\", 2: \"Feb\", 3: \"Mar\", 4: \"Apr\", 5: \"May\", 6: \"Jun\", 7: \"Jul\", 8: \"Aug\",9: \"Sept\", 10: \"Oct\", 11: \"Nov\",12: \"Dec\"}\n",
    "df1[\"month_map\"] = df1[\"date\"].dt.month.map(month_map)\n",
    "\n",
    "# escrevi 2 maneiras de executar a função que popula a nova coluna \"is_promo\"\n",
    "# a primeira demora +10 min e por isso foi inteiramente comentada:\n",
    "\n",
    "#def isPromo(df):\n",
    "#    if df[\"promo_interval\"] == 0:\n",
    "#        df[\"is_promo\"] = 0\n",
    "#    else:\n",
    "#        if df[\"month_map\"] in df[\"promo_interval\"].split(','):\n",
    "#            df[\"is_promo\"] = 1\n",
    "#        else:\n",
    "#            df[\"is_promo\"] = 0\n",
    "#    return df\n",
    "            \n",
    "# df1[\"is_promo\"] = df1[[\"promo_interval\",\"month_map\"]].apply(isPromo, axis = 1)[\"is_promo\"]\n",
    "# Last executed at 2021-04-08 09:14:02 in 13m 57.15s\n",
    "\n",
    "\n",
    "# a segunda demora menos de 15 segundos:\n",
    "df1[\"is_promo\"] = df1[[\"promo_interval\",\"month_map\"]].apply(lambda x: 0 if x[\"promo_interval\"] == 0 else 1 if x[\"month_map\"] in x[\"promo_interval\"].split(',') else 0, axis = 1)\n",
    "# Last executed at 2021-04-08 08:53:43 in 11.97s"
   ]
  },
  {
   "cell_type": "code",
   "execution_count": 12,
   "id": "moving-attention",
   "metadata": {
    "execution": {
     "iopub.execute_input": "2021-04-28T10:20:36.251000Z",
     "iopub.status.busy": "2021-04-28T10:20:36.251000Z",
     "iopub.status.idle": "2021-04-28T10:20:36.536000Z",
     "shell.execute_reply": "2021-04-28T10:20:36.535000Z",
     "shell.execute_reply.started": "2021-04-28T10:20:36.251000Z"
    },
    "tags": []
   },
   "outputs": [
    {
     "data": {
      "text/plain": [
       "store                           0\n",
       "day_of_week                     0\n",
       "date                            0\n",
       "sales                           0\n",
       "customers                       0\n",
       "open                            0\n",
       "promo                           0\n",
       "state_holiday                   0\n",
       "school_holiday                  0\n",
       "store_type                      0\n",
       "assortment                      0\n",
       "competition_distance            0\n",
       "competition_open_since_month    0\n",
       "competition_open_since_year     0\n",
       "promo2                          0\n",
       "promo2_since_week               0\n",
       "promo2_since_year               0\n",
       "promo_interval                  0\n",
       "month_map                       0\n",
       "is_promo                        0\n",
       "dtype: int64"
      ]
     },
     "execution_count": 12,
     "metadata": {},
     "output_type": "execute_result"
    }
   ],
   "source": [
    "# confirma que todos os dados faltantes foram tratados\n",
    "df1.isna().sum()"
   ]
  },
  {
   "cell_type": "markdown",
   "id": "starting-inside",
   "metadata": {},
   "source": [
    "## 1.6 Change Types\n"
   ]
  },
  {
   "cell_type": "code",
   "execution_count": 13,
   "id": "connected-cycle",
   "metadata": {
    "execution": {
     "iopub.execute_input": "2021-04-28T10:20:36.536000Z",
     "iopub.status.busy": "2021-04-28T10:20:36.536000Z",
     "iopub.status.idle": "2021-04-28T10:20:36.543000Z",
     "shell.execute_reply": "2021-04-28T10:20:36.543000Z",
     "shell.execute_reply.started": "2021-04-28T10:20:36.536000Z"
    }
   },
   "outputs": [
    {
     "data": {
      "text/plain": [
       "store                                    int64\n",
       "day_of_week                              int64\n",
       "date                            datetime64[ns]\n",
       "sales                                    int64\n",
       "customers                                int64\n",
       "open                                     int64\n",
       "promo                                    int64\n",
       "state_holiday                           object\n",
       "school_holiday                           int64\n",
       "store_type                              object\n",
       "assortment                              object\n",
       "competition_distance                   float64\n",
       "competition_open_since_month           float64\n",
       "competition_open_since_year            float64\n",
       "promo2                                   int64\n",
       "promo2_since_week                      float64\n",
       "promo2_since_year                      float64\n",
       "promo_interval                          object\n",
       "month_map                               object\n",
       "is_promo                                 int64\n",
       "dtype: object"
      ]
     },
     "execution_count": 13,
     "metadata": {},
     "output_type": "execute_result"
    }
   ],
   "source": [
    "# as operações realizadas em 1.5 podem ter mudado os tipos das colunas.\n",
    "# por isso é importante checar novamente\n",
    "df1.dtypes"
   ]
  },
  {
   "cell_type": "code",
   "execution_count": 14,
   "id": "assumed-prize",
   "metadata": {
    "execution": {
     "iopub.execute_input": "2021-04-28T10:20:36.543000Z",
     "iopub.status.busy": "2021-04-28T10:20:36.543000Z",
     "iopub.status.idle": "2021-04-28T10:20:36.688000Z",
     "shell.execute_reply": "2021-04-28T10:20:36.688000Z",
     "shell.execute_reply.started": "2021-04-28T10:20:36.543000Z"
    },
    "tags": []
   },
   "outputs": [],
   "source": [
    "# mudar o tipo das colunas que tem semana, mês e ano\n",
    "df1[\"competition_open_since_month\"] = df1[\"competition_open_since_month\"].astype(int)\n",
    "df1[\"competition_open_since_year\"] = df1[\"competition_open_since_year\"].astype(int)\n",
    "df1[\"promo2_since_week\"] = df1[\"promo2_since_week\"].astype(int)\n",
    "df1[\"promo2_since_year\"] = df1[\"promo2_since_year\"].astype(int)\n",
    "\n",
    "# a princípio não há nenhum problema em deixar algumas colunas como int32 e outras como int64\n",
    "# caso seja necessária a conversão: valor_64 = np.int64(valor_a_ser_convertido)"
   ]
  },
  {
   "cell_type": "markdown",
   "id": "adult-brake",
   "metadata": {
    "tags": []
   },
   "source": [
    "## 1.7 Descriptive Statistical"
   ]
  },
  {
   "cell_type": "markdown",
   "id": "announced-forestry",
   "metadata": {},
   "source": [
    "Métricas: <br>\n",
    "* Tendência central: média, mediana\n",
    "* Dispersão: variância, desvio padrão, amplitude\n",
    "\n",
    "Embora a estatística descritiva seja compatível com dados numéricos e categóricos, a forma de construção é diferente. Portanto, preciso separar em dados numéricos e dados categóricos."
   ]
  },
  {
   "cell_type": "code",
   "execution_count": 15,
   "id": "pharmaceutical-backup",
   "metadata": {
    "execution": {
     "iopub.execute_input": "2021-04-28T10:20:36.688000Z",
     "iopub.status.busy": "2021-04-28T10:20:36.688000Z",
     "iopub.status.idle": "2021-04-28T10:20:36.990000Z",
     "shell.execute_reply": "2021-04-28T10:20:36.990000Z",
     "shell.execute_reply.started": "2021-04-28T10:20:36.688000Z"
    }
   },
   "outputs": [],
   "source": [
    "num_attributes = df1.select_dtypes(include=['int32', 'int64', 'float64'])\n",
    "cat_attributes = df1.select_dtypes(exclude=['int32', 'int64', 'float64','datetime64[ns]'])"
   ]
  },
  {
   "cell_type": "markdown",
   "id": "distant-synthetic",
   "metadata": {
    "tags": []
   },
   "source": [
    "### 1.7.1 Numerical Attributes"
   ]
  },
  {
   "cell_type": "code",
   "execution_count": 16,
   "id": "changing-unemployment",
   "metadata": {
    "execution": {
     "iopub.execute_input": "2021-04-28T10:20:36.990000Z",
     "iopub.status.busy": "2021-04-28T10:20:36.990000Z",
     "iopub.status.idle": "2021-04-28T10:20:38.501000Z",
     "shell.execute_reply": "2021-04-28T10:20:38.501000Z",
     "shell.execute_reply.started": "2021-04-28T10:20:36.990000Z"
    },
    "tags": []
   },
   "outputs": [],
   "source": [
    "# mean, median\n",
    "ct1 = pd.DataFrame(num_attributes.apply(np.mean)).T\n",
    "ct2 = pd.DataFrame(num_attributes.apply(np.median)).T\n",
    "\n",
    "# std, min, max, range, skew, kurtosis\n",
    "d1 = pd.DataFrame(num_attributes.apply(np.std)).T\n",
    "d2 = pd.DataFrame(num_attributes.apply(np.min)).T\n",
    "d3 = pd.DataFrame(num_attributes.apply(np.max)).T\n",
    "d4 = pd.DataFrame(num_attributes.apply(lambda x: x.max() - x.min() )).T\n",
    "d5 = pd.DataFrame(num_attributes.skew()).T\n",
    "d6 = pd.DataFrame(num_attributes.kurtosis()).T\n",
    "\n",
    "# concat\n",
    "metrics = pd.concat([d2, d3, d4, ct1, ct2, d1, d5, d6]).T.reset_index()\n",
    "metrics.columns = ['attributes', 'min','max','range','mean','median','std','skew','kurtosis']\n"
   ]
  },
  {
   "cell_type": "code",
   "execution_count": 17,
   "id": "violent-portal",
   "metadata": {
    "execution": {
     "iopub.execute_input": "2021-04-28T10:20:38.501000Z",
     "iopub.status.busy": "2021-04-28T10:20:38.501000Z",
     "iopub.status.idle": "2021-04-28T10:20:38.534000Z",
     "shell.execute_reply": "2021-04-28T10:20:38.534000Z",
     "shell.execute_reply.started": "2021-04-28T10:20:38.501000Z"
    },
    "tags": []
   },
   "outputs": [
    {
     "data": {
      "text/html": [
       "<div>\n",
       "<style scoped>\n",
       "    .dataframe tbody tr th:only-of-type {\n",
       "        vertical-align: middle;\n",
       "    }\n",
       "\n",
       "    .dataframe tbody tr th {\n",
       "        vertical-align: top;\n",
       "    }\n",
       "\n",
       "    .dataframe thead th {\n",
       "        text-align: right;\n",
       "    }\n",
       "</style>\n",
       "<table border=\"1\" class=\"dataframe\">\n",
       "  <thead>\n",
       "    <tr style=\"text-align: right;\">\n",
       "      <th></th>\n",
       "      <th>attributes</th>\n",
       "      <th>min</th>\n",
       "      <th>max</th>\n",
       "      <th>range</th>\n",
       "      <th>mean</th>\n",
       "      <th>median</th>\n",
       "      <th>std</th>\n",
       "      <th>skew</th>\n",
       "      <th>kurtosis</th>\n",
       "    </tr>\n",
       "  </thead>\n",
       "  <tbody>\n",
       "    <tr>\n",
       "      <th>0</th>\n",
       "      <td>store</td>\n",
       "      <td>1.0</td>\n",
       "      <td>1115.0</td>\n",
       "      <td>1114.0</td>\n",
       "      <td>558.429727</td>\n",
       "      <td>558.0</td>\n",
       "      <td>321.908493</td>\n",
       "      <td>-0.000955</td>\n",
       "      <td>-1.200524</td>\n",
       "    </tr>\n",
       "    <tr>\n",
       "      <th>1</th>\n",
       "      <td>day_of_week</td>\n",
       "      <td>1.0</td>\n",
       "      <td>7.0</td>\n",
       "      <td>6.0</td>\n",
       "      <td>3.998341</td>\n",
       "      <td>4.0</td>\n",
       "      <td>1.997390</td>\n",
       "      <td>0.001593</td>\n",
       "      <td>-1.246873</td>\n",
       "    </tr>\n",
       "    <tr>\n",
       "      <th>2</th>\n",
       "      <td>sales</td>\n",
       "      <td>0.0</td>\n",
       "      <td>41551.0</td>\n",
       "      <td>41551.0</td>\n",
       "      <td>5773.818972</td>\n",
       "      <td>5744.0</td>\n",
       "      <td>3849.924283</td>\n",
       "      <td>0.641460</td>\n",
       "      <td>1.778375</td>\n",
       "    </tr>\n",
       "    <tr>\n",
       "      <th>3</th>\n",
       "      <td>customers</td>\n",
       "      <td>0.0</td>\n",
       "      <td>7388.0</td>\n",
       "      <td>7388.0</td>\n",
       "      <td>633.145946</td>\n",
       "      <td>609.0</td>\n",
       "      <td>464.411506</td>\n",
       "      <td>1.598650</td>\n",
       "      <td>7.091773</td>\n",
       "    </tr>\n",
       "    <tr>\n",
       "      <th>4</th>\n",
       "      <td>open</td>\n",
       "      <td>0.0</td>\n",
       "      <td>1.0</td>\n",
       "      <td>1.0</td>\n",
       "      <td>0.830107</td>\n",
       "      <td>1.0</td>\n",
       "      <td>0.375539</td>\n",
       "      <td>-1.758045</td>\n",
       "      <td>1.090723</td>\n",
       "    </tr>\n",
       "    <tr>\n",
       "      <th>5</th>\n",
       "      <td>promo</td>\n",
       "      <td>0.0</td>\n",
       "      <td>1.0</td>\n",
       "      <td>1.0</td>\n",
       "      <td>0.381515</td>\n",
       "      <td>0.0</td>\n",
       "      <td>0.485758</td>\n",
       "      <td>0.487838</td>\n",
       "      <td>-1.762018</td>\n",
       "    </tr>\n",
       "    <tr>\n",
       "      <th>6</th>\n",
       "      <td>school_holiday</td>\n",
       "      <td>0.0</td>\n",
       "      <td>1.0</td>\n",
       "      <td>1.0</td>\n",
       "      <td>0.178647</td>\n",
       "      <td>0.0</td>\n",
       "      <td>0.383056</td>\n",
       "      <td>1.677842</td>\n",
       "      <td>0.815154</td>\n",
       "    </tr>\n",
       "    <tr>\n",
       "      <th>7</th>\n",
       "      <td>competition_distance</td>\n",
       "      <td>20.0</td>\n",
       "      <td>200000.0</td>\n",
       "      <td>199980.0</td>\n",
       "      <td>5935.442677</td>\n",
       "      <td>2330.0</td>\n",
       "      <td>12547.646829</td>\n",
       "      <td>10.242344</td>\n",
       "      <td>147.789712</td>\n",
       "    </tr>\n",
       "    <tr>\n",
       "      <th>8</th>\n",
       "      <td>competition_open_since_month</td>\n",
       "      <td>1.0</td>\n",
       "      <td>12.0</td>\n",
       "      <td>11.0</td>\n",
       "      <td>6.786849</td>\n",
       "      <td>7.0</td>\n",
       "      <td>3.311085</td>\n",
       "      <td>-0.042076</td>\n",
       "      <td>-1.232607</td>\n",
       "    </tr>\n",
       "    <tr>\n",
       "      <th>9</th>\n",
       "      <td>competition_open_since_year</td>\n",
       "      <td>1900.0</td>\n",
       "      <td>2015.0</td>\n",
       "      <td>115.0</td>\n",
       "      <td>2010.324840</td>\n",
       "      <td>2012.0</td>\n",
       "      <td>5.515591</td>\n",
       "      <td>-7.235657</td>\n",
       "      <td>124.071304</td>\n",
       "    </tr>\n",
       "    <tr>\n",
       "      <th>10</th>\n",
       "      <td>promo2</td>\n",
       "      <td>0.0</td>\n",
       "      <td>1.0</td>\n",
       "      <td>1.0</td>\n",
       "      <td>0.500564</td>\n",
       "      <td>1.0</td>\n",
       "      <td>0.500000</td>\n",
       "      <td>-0.002255</td>\n",
       "      <td>-1.999999</td>\n",
       "    </tr>\n",
       "    <tr>\n",
       "      <th>11</th>\n",
       "      <td>promo2_since_week</td>\n",
       "      <td>1.0</td>\n",
       "      <td>52.0</td>\n",
       "      <td>51.0</td>\n",
       "      <td>23.619033</td>\n",
       "      <td>22.0</td>\n",
       "      <td>14.310057</td>\n",
       "      <td>0.178723</td>\n",
       "      <td>-1.184046</td>\n",
       "    </tr>\n",
       "    <tr>\n",
       "      <th>12</th>\n",
       "      <td>promo2_since_year</td>\n",
       "      <td>2009.0</td>\n",
       "      <td>2015.0</td>\n",
       "      <td>6.0</td>\n",
       "      <td>2012.793297</td>\n",
       "      <td>2013.0</td>\n",
       "      <td>1.662657</td>\n",
       "      <td>-0.784436</td>\n",
       "      <td>-0.210075</td>\n",
       "    </tr>\n",
       "    <tr>\n",
       "      <th>13</th>\n",
       "      <td>is_promo</td>\n",
       "      <td>0.0</td>\n",
       "      <td>1.0</td>\n",
       "      <td>1.0</td>\n",
       "      <td>0.171835</td>\n",
       "      <td>0.0</td>\n",
       "      <td>0.377237</td>\n",
       "      <td>1.739838</td>\n",
       "      <td>1.027039</td>\n",
       "    </tr>\n",
       "  </tbody>\n",
       "</table>\n",
       "</div>"
      ],
      "text/plain": [
       "                      attributes     min       max     range         mean  \\\n",
       "0                          store     1.0    1115.0    1114.0   558.429727   \n",
       "1                    day_of_week     1.0       7.0       6.0     3.998341   \n",
       "2                          sales     0.0   41551.0   41551.0  5773.818972   \n",
       "3                      customers     0.0    7388.0    7388.0   633.145946   \n",
       "4                           open     0.0       1.0       1.0     0.830107   \n",
       "5                          promo     0.0       1.0       1.0     0.381515   \n",
       "6                 school_holiday     0.0       1.0       1.0     0.178647   \n",
       "7           competition_distance    20.0  200000.0  199980.0  5935.442677   \n",
       "8   competition_open_since_month     1.0      12.0      11.0     6.786849   \n",
       "9    competition_open_since_year  1900.0    2015.0     115.0  2010.324840   \n",
       "10                        promo2     0.0       1.0       1.0     0.500564   \n",
       "11             promo2_since_week     1.0      52.0      51.0    23.619033   \n",
       "12             promo2_since_year  2009.0    2015.0       6.0  2012.793297   \n",
       "13                      is_promo     0.0       1.0       1.0     0.171835   \n",
       "\n",
       "    median           std       skew    kurtosis  \n",
       "0    558.0    321.908493  -0.000955   -1.200524  \n",
       "1      4.0      1.997390   0.001593   -1.246873  \n",
       "2   5744.0   3849.924283   0.641460    1.778375  \n",
       "3    609.0    464.411506   1.598650    7.091773  \n",
       "4      1.0      0.375539  -1.758045    1.090723  \n",
       "5      0.0      0.485758   0.487838   -1.762018  \n",
       "6      0.0      0.383056   1.677842    0.815154  \n",
       "7   2330.0  12547.646829  10.242344  147.789712  \n",
       "8      7.0      3.311085  -0.042076   -1.232607  \n",
       "9   2012.0      5.515591  -7.235657  124.071304  \n",
       "10     1.0      0.500000  -0.002255   -1.999999  \n",
       "11    22.0     14.310057   0.178723   -1.184046  \n",
       "12  2013.0      1.662657  -0.784436   -0.210075  \n",
       "13     0.0      0.377237   1.739838    1.027039  "
      ]
     },
     "execution_count": 17,
     "metadata": {},
     "output_type": "execute_result"
    }
   ],
   "source": [
    "metrics"
   ]
  },
  {
   "cell_type": "code",
   "execution_count": 18,
   "id": "athletic-chapter",
   "metadata": {
    "execution": {
     "iopub.execute_input": "2021-04-28T10:20:38.535000Z",
     "iopub.status.busy": "2021-04-28T10:20:38.535000Z",
     "iopub.status.idle": "2021-04-28T10:20:40.659000Z",
     "shell.execute_reply": "2021-04-28T10:20:40.659000Z",
     "shell.execute_reply.started": "2021-04-28T10:20:38.535000Z"
    },
    "tags": []
   },
   "outputs": [
    {
     "data": {
      "text/plain": [
       "<AxesSubplot:xlabel='sales', ylabel='Count'>"
      ]
     },
     "execution_count": 18,
     "metadata": {},
     "output_type": "execute_result"
    },
    {
     "data": {
      "image/png": "[encoded data removed]",
      "text/plain": [
       "<Figure size 432x288 with 1 Axes>"
      ]
     },
     "metadata": {
      "needs_background": "light"
     },
     "output_type": "display_data"
    }
   ],
   "source": [
    "sns.histplot(df1[\"sales\"])"
   ]
  },
  {
   "cell_type": "code",
   "execution_count": 19,
   "id": "celtic-feature",
   "metadata": {
    "execution": {
     "iopub.execute_input": "2021-04-28T10:20:40.659000Z",
     "iopub.status.busy": "2021-04-28T10:20:40.659000Z",
     "iopub.status.idle": "2021-04-28T10:20:45.953000Z",
     "shell.execute_reply": "2021-04-28T10:20:45.953000Z",
     "shell.execute_reply.started": "2021-04-28T10:20:40.659000Z"
    },
    "tags": []
   },
   "outputs": [
    {
     "data": {
      "text/plain": [
       "<seaborn.axisgrid.FacetGrid at 0x31a2d248>"
      ]
     },
     "execution_count": 19,
     "metadata": {},
     "output_type": "execute_result"
    },
    {
     "data": {
      "image/png": "[encoded data removed]",
      "text/plain": [
       "<Figure size 360x360 with 1 Axes>"
      ]
     },
     "metadata": {
      "needs_background": "light"
     },
     "output_type": "display_data"
    }
   ],
   "source": [
    "sns.displot(df1[\"competition_distance\"])"
   ]
  },
  {
   "cell_type": "code",
   "execution_count": 20,
   "id": "instructional-strengthening",
   "metadata": {
    "execution": {
     "iopub.execute_input": "2021-04-28T10:20:45.953000Z",
     "iopub.status.busy": "2021-04-28T10:20:45.953000Z",
     "iopub.status.idle": "2021-04-28T10:20:52.940000Z",
     "shell.execute_reply": "2021-04-28T10:20:52.940000Z",
     "shell.execute_reply.started": "2021-04-28T10:20:45.953000Z"
    }
   },
   "outputs": [
    {
     "data": {
      "text/plain": [
       "<seaborn.axisgrid.FacetGrid at 0x41b7ed08>"
      ]
     },
     "execution_count": 20,
     "metadata": {},
     "output_type": "execute_result"
    },
    {
     "data": {
      "image/png": "[encoded data removed]",
      "text/plain": [
       "<Figure size 360x360 with 1 Axes>"
      ]
     },
     "metadata": {
      "needs_background": "light"
     },
     "output_type": "display_data"
    }
   ],
   "source": [
    "sns.displot(df1[\"competition_distance\"])"
   ]
  },
  {
   "cell_type": "markdown",
   "id": "outside-disaster",
   "metadata": {},
   "source": [
    "### 1.7.2 Categorical Attributes"
   ]
  },
  {
   "cell_type": "code",
   "execution_count": 21,
   "id": "regulation-horse",
   "metadata": {
    "execution": {
     "iopub.execute_input": "2021-04-28T10:20:52.940000Z",
     "iopub.status.busy": "2021-04-28T10:20:52.940000Z",
     "iopub.status.idle": "2021-04-28T10:20:52.334000Z",
     "shell.execute_reply": "2021-04-28T10:20:52.334000Z",
     "shell.execute_reply.started": "2021-04-28T10:20:52.94000Z"
    },
    "tags": []
   },
   "outputs": [
    {
     "data": {
      "text/plain": [
       "state_holiday      4\n",
       "store_type         4\n",
       "assortment         3\n",
       "promo_interval     4\n",
       "month_map         12\n",
       "dtype: int64"
      ]
     },
     "execution_count": 21,
     "metadata": {},
     "output_type": "execute_result"
    }
   ],
   "source": [
    "cat_attributes.apply(lambda x: x.unique().shape[0])"
   ]
  },
  {
   "cell_type": "code",
   "execution_count": 22,
   "id": "frank-blood",
   "metadata": {
    "execution": {
     "iopub.execute_input": "2021-04-28T10:20:52.334000Z",
     "iopub.status.busy": "2021-04-28T10:20:52.334000Z",
     "iopub.status.idle": "2021-04-28T10:20:53.216000Z",
     "shell.execute_reply": "2021-04-28T10:20:53.216000Z",
     "shell.execute_reply.started": "2021-04-28T10:20:52.334000Z"
    },
    "tags": []
   },
   "outputs": [
    {
     "data": {
      "image/png": "[encoded data removed]",
      "text/plain": [
       "<Figure size 1440x720 with 3 Axes>"
      ]
     },
     "metadata": {},
     "output_type": "display_data"
    }
   ],
   "source": [
    "aux1 = df1[(df1[\"state_holiday\"] != '0') & (df1[\"sales\"] > 0)]\n",
    "sns.set_style(\"darkgrid\")\n",
    "plt.figure(figsize=(20,10))\n",
    "\n",
    "plt.subplot(1,3,1)\n",
    "sns.boxplot(x=\"state_holiday\", y=\"sales\", data=aux1)\n",
    "\n",
    "plt.subplot(1,3,2)\n",
    "sns.boxplot(x=\"store_type\", y=\"sales\", data=aux1)\n",
    "\n",
    "plt.subplot(1,3,3)\n",
    "sns.boxplot(x=\"assortment\", y=\"sales\", data=aux1)\n",
    "\n",
    "plt.tight_layout()"
   ]
  },
  {
   "cell_type": "markdown",
   "id": "1de3bd0d-55c7-4560-aad4-cb29769c40f6",
   "metadata": {},
   "source": [
    "# 2.0 FEATURE ENGINEERING"
   ]
  },
  {
   "cell_type": "code",
   "execution_count": 23,
   "id": "6fc2a9fd-8332-4d87-a013-663cb7e9adc7",
   "metadata": {
    "execution": {
     "iopub.execute_input": "2021-04-28T10:20:53.216000Z",
     "iopub.status.busy": "2021-04-28T10:20:53.216000Z",
     "iopub.status.idle": "2021-04-28T10:20:53.336000Z",
     "shell.execute_reply": "2021-04-28T10:20:53.336000Z",
     "shell.execute_reply.started": "2021-04-28T10:20:53.216000Z"
    },
    "tags": []
   },
   "outputs": [],
   "source": [
    "df2 = df1.copy()"
   ]
  },
  {
   "cell_type": "markdown",
   "id": "b928d3be-9a9a-4a43-8854-b15f31d0731f",
   "metadata": {
    "tags": []
   },
   "source": [
    "## 2.1 Mapa mental de hipóteses"
   ]
  },
  {
   "cell_type": "markdown",
   "id": "47e1a8a6-fba9-4ead-9a42-b22a63a1028c",
   "metadata": {},
   "source": [
    "Mapa mental de hipóteses:\n",
    "* Fenômeno: O que estou modelando (Daily Store Sales)\n",
    "* Agentes: Quais são os agentes que atuam sobre o fenômeno (cinco galhos principais)\n",
    "* Atributos dos Agentes: Qual a descrição dos agentes (galhos em cada um dos agentes) <br>\n",
    "\n",
    "O objetivo é derivar uma lista de hipóteses para podermos validá-las ou não com os dados.\n",
    "Cada hipótese validada ou descartada é o insight."
   ]
  },
  {
   "cell_type": "code",
   "execution_count": 24,
   "id": "778301fd-590f-4faf-b7ba-97249b9c7c1a",
   "metadata": {
    "execution": {
     "iopub.execute_input": "2021-04-28T10:20:53.337000Z",
     "iopub.status.busy": "2021-04-28T10:20:53.337000Z",
     "iopub.status.idle": "2021-04-28T10:20:53.351000Z",
     "shell.execute_reply": "2021-04-28T10:20:53.350000Z",
     "shell.execute_reply.started": "2021-04-28T10:20:53.337000Z"
    },
    "tags": []
   },
   "outputs": [
    {
     "data": {
      "image/png": "[encoded data removed]",
      "text/plain": [
       "<IPython.core.display.Image object>"
      ]
     },
     "execution_count": 24,
     "metadata": {},
     "output_type": "execute_result"
    }
   ],
   "source": [
    "# gerado com ajuda de https://coggle.it/\n",
    "Image(\"img/MindMapHypothesis.png\")"
   ]
  },
  {
   "cell_type": "markdown",
   "id": "d617c00d-2122-496e-88d1-037b009e8cca",
   "metadata": {},
   "source": [
    "O mapa mental de hipóteses acima será utilizado para extrair hipóteses para validá-las, mais a frente, durante a análise exploratória de dados.\n",
    "Para escrever hipóteses, considerá-las como uma aposta, conforme os exemplos abaixo: <br>\n",
    "\"Lojas de MAIOR porte deveriam vender MAIS.\" (Repare que estou citando um atributo de um agente (Tamanho da loja) e apostando na correlação sobre a variável resposta (vendas). <br>\n",
    "\"Lojas de MAIOR sortimento deveriam vender MAIS.\" <br>\n",
    "\"Lojas com MAIS competidores por perto deveriam vender MENOS.\"\n"
   ]
  },
  {
   "cell_type": "markdown",
   "id": "d9bdf268-5857-4dd1-975a-00ef5222972e",
   "metadata": {},
   "source": [
    "## 2.1 Criação das hipóteses"
   ]
  },
  {
   "cell_type": "markdown",
   "id": "e223d816-857e-4279-bac2-42083834d389",
   "metadata": {},
   "source": [
    "### 2.1.1. Hipóteses Loja"
   ]
  },
  {
   "cell_type": "markdown",
   "id": "5dfd5aa7-5554-4e5c-9855-d1eb22dcfd2f",
   "metadata": {},
   "source": [
    "**1.** Lojas com maior quadro de funcionários deveriam vender mais <br>\n",
    "**2.** Lojas com maior estoque deveriam vender mais <br>\n",
    "**3.** Lojas com maior porte deveriam vender mais (ou Lojas com menor porte deveriam vender menos) <br>\n",
    "**4.** Lojas com maior sortimento deveriam vender mais <br>\n",
    "**5.** Lojas com competidores mais próximos deveriam vender menos <br>\n",
    "**6.** Lojas com competidores à mais tempo deveriam vender mais"
   ]
  },
  {
   "cell_type": "markdown",
   "id": "b4df750e-b4a3-4d07-9f7b-242f725fa547",
   "metadata": {},
   "source": [
    "### 2.1.2. Hipóteses Produto"
   ]
  },
  {
   "cell_type": "markdown",
   "id": "a5e95ac0-49dd-4cba-8195-04349ed03c6d",
   "metadata": {
    "execution": {
     "iopub.execute_input": "2021-04-22T10:41:59.270669Z",
     "iopub.status.busy": "2021-04-22T10:41:59.269669Z",
     "iopub.status.idle": "2021-04-22T10:41:59.271669Z",
     "shell.execute_reply": "2021-04-22T10:41:59.271669Z",
     "shell.execute_reply.started": "2021-04-22T10:41:59.270669Z"
    }
   },
   "source": [
    "**1.** Lojas que investem mais em marketing deveriam vender mais <br>\n",
    "**2.** Lojas que expõem mais nas vitrines da loja deveriam vender mais <br>\n",
    "**3.** Lojas onde os produtos custam menos deveriam vender mais <br>\n",
    "**4.** Lojas com promoções mais agressivas (descontos maiores) deveriam vender mais <br>\n",
    "**5.** Lojas onde os produtos custam menos por mais tempo deveriam vender mais <br>\n",
    "**6.** Lojas com mais dias de promoção deveriam vender mais <br>\n",
    "**7.** Lojas com mais promoções consecutivas deveriam vender mais <br> "
   ]
  },
  {
   "cell_type": "markdown",
   "id": "62bc66e7-410e-4a16-a84c-a57068f6912b",
   "metadata": {},
   "source": [
    "### 2.1.3. Hipóteses Tempo"
   ]
  },
  {
   "cell_type": "markdown",
   "id": "5ca531e4-7b20-43f9-a374-61fdadbd89c9",
   "metadata": {},
   "source": [
    "**1.** Lojas abertas durante o feriado de Natal deveriam vender mais <br>\n",
    "**2.** Lojas deveriam vender mais ao longo dos anos <br>\n",
    "**3.** Lojas deveriam vender mais no segundo semestre do ano <br>\n",
    "**4.** Lojas deveriam vender mais depois do dia 10 de cada mês <br>\n",
    "**5.** Lojas deveriam vender menos aos finais de semana <br>\n",
    "**6.** Lojas deveriam vender menos durante os feriados escolares <br>\n",
    "**7. (extra)** Lojas que abrem nos finais de semana deveriam vender mais <br>\n"
   ]
  },
  {
   "cell_type": "markdown",
   "id": "04095042-3a7c-4f47-88d1-47fc68829f7f",
   "metadata": {},
   "source": [
    "## 2.2 Priorização de hipóteses"
   ]
  },
  {
   "cell_type": "markdown",
   "id": "da72e05c-0e43-4c05-96c1-286eae81551b",
   "metadata": {},
   "source": [
    "Como estamos trabalhando no método CRISP, vamos validar as hipoteses que já temos condições de verificá-las com o conjunto atual de dados obtidos. Se para a hipótese for necessário fazer mais um query no SQL, extrair, armazenar e tratar os dados, então é melhor fazer em um próximo ciclo do CRISP, caso necessário. <br>\n",
    "As hipóteses abaixo foram extraídas das seções 2.1.1 a 2.1.3 pois, no dataset disponível, são as únicas que podem ser verificadas."
   ]
  },
  {
   "cell_type": "markdown",
   "id": "3fe74a8c-b46f-454e-a506-bbfc99a61b17",
   "metadata": {},
   "source": [
    "**1.** Lojas com maior sortimento deveriam vender mais <br>\n",
    "**2.** Lojas com competidores mais próximos deveriam vender menos <br>\n",
    "**3.** Lojas com competidores à mais tempo deveriam vender mais <br>\n",
    "\n",
    "**4.** Lojas onde os produtos custam menos por mais tempo deveriam vender mais <br>\n",
    "**5.** Lojas com mais dias de promoção deveriam vender mais <br>\n",
    "**6.** Lojas com mais promoções consecutivas deveriam vender mais <br> \n",
    "\n",
    "**7** Lojas abertas durante o feriado de Natal deveriam vender mais <br>\n",
    "**8.** Lojas deveriam vender mais ao longo dos anos <br>\n",
    "**9.** Lojas deveriam vender mais no segundo semestre do ano <br>\n",
    "**10.** Lojas deveriam vender mais depois do dia 10 de cada mês <br>\n",
    "**11.** Lojas deveriam vender menos aos finais de semana <br>\n",
    "**12.** Lojas deveriam vender menos durante os feriados escolares <br>\n",
    "**13. (extra)** Lojas que abrem nos finais de semana deveriam vender mais <br>"
   ]
  },
  {
   "cell_type": "markdown",
   "id": "f911e97a-e6c5-4307-9b4d-aa98aeffcf0a",
   "metadata": {
    "execution": {
     "iopub.execute_input": "2021-04-23T11:22:35.467400Z",
     "iopub.status.busy": "2021-04-23T11:22:35.467400Z",
     "iopub.status.idle": "2021-04-23T11:22:35.468400Z",
     "shell.execute_reply": "2021-04-23T11:22:35.468400Z",
     "shell.execute_reply.started": "2021-04-23T11:22:35.467400Z"
    }
   },
   "source": [
    "## 2.3 Feature Engineering"
   ]
  },
  {
   "cell_type": "code",
   "execution_count": 25,
   "id": "af885bbc-2af0-406d-b697-c153095d1d20",
   "metadata": {
    "execution": {
     "iopub.execute_input": "2021-04-28T10:20:53.351000Z",
     "iopub.status.busy": "2021-04-28T10:20:53.351000Z",
     "iopub.status.idle": "2021-04-28T10:22:14.629000Z",
     "shell.execute_reply": "2021-04-28T10:22:14.629000Z",
     "shell.execute_reply.started": "2021-04-28T10:20:53.351000Z"
    },
    "tags": []
   },
   "outputs": [],
   "source": [
    "# criação de novas colunas para utilizá-las na AED e validação/refutação das hipóteses selecionadas\n",
    "\n",
    "# year\n",
    "df2[\"year\"] = df2[\"date\"].dt.year\n",
    "# month\n",
    "df2[\"month\"] = df2[\"date\"].dt.month\n",
    "# day\n",
    "df2[\"day\"] = df2[\"date\"].dt.day\n",
    "# week of year\n",
    "df2[\"week_of_year\"] = df2[\"date\"].dt.isocalendar().week\n",
    "# year week\n",
    "df2[\"year_week\"] = df2[\"date\"].dt.strftime('%Y-%W')\n",
    "\n",
    "# competition since (preciso juntar o ano e mês primeiro)\n",
    "df2[\"competition_since\"] = df2.apply(lambda x: datetime.datetime(year = x[\"competition_open_since_year\"], month = x[\"competition_open_since_month\"], day = 1), axis = 1)\n",
    "df2[\"competition_time_month\"] = ((df2[\"date\"] - df2[\"competition_since\"]) / 30).apply(lambda x: x.days).astype(int)\n",
    "\n",
    "\n",
    "# promo since (queremos saber o tempo que a loja aderiu a promo2 )\n",
    "# como a semana %W começa com 0, subtrai-se 7 dias\n",
    "df2[\"promo_since\"] = df2[\"promo2_since_year\"].astype(str) +  '-' + df2[\"promo2_since_week\"].astype(str)\n",
    "df2[\"promo_since\"] = df2[\"promo_since\"].apply(lambda x: datetime.datetime.strptime(x + '-1', '%Y-%W-%w' ) - datetime.timedelta(days=7))\n",
    "df2[\"promo_time_week\"] = ((df2[\"date\"] - df2[\"promo_since\"])/7).apply(lambda x: x.days).astype(int)\n",
    "\n",
    "# assortment\n",
    "df2[\"assortment\"] = df2[\"assortment\"].map({'a': 'basic', 'b': 'extra', 'c': 'extended'})\n",
    "# state holiday\n",
    "df2[\"state_holiday\"] = df2[\"state_holiday\"].map({'a':'public_holiday', 'b':'easter_holiday', 'c':'christmas', '0': 'regular_day'})\n"
   ]
  },
  {
   "cell_type": "code",
   "execution_count": 26,
   "id": "d0fee32f-de72-441b-8adb-10e1fe48ab55",
   "metadata": {
    "execution": {
     "iopub.execute_input": "2021-04-28T10:22:14.629000Z",
     "iopub.status.busy": "2021-04-28T10:22:14.629000Z",
     "iopub.status.idle": "2021-04-28T10:22:14.653000Z",
     "shell.execute_reply": "2021-04-28T10:22:14.653000Z",
     "shell.execute_reply.started": "2021-04-28T10:22:14.629000Z"
    },
    "tags": []
   },
   "outputs": [
    {
     "data": {
      "text/html": [
       "<div>\n",
       "<style scoped>\n",
       "    .dataframe tbody tr th:only-of-type {\n",
       "        vertical-align: middle;\n",
       "    }\n",
       "\n",
       "    .dataframe tbody tr th {\n",
       "        vertical-align: top;\n",
       "    }\n",
       "\n",
       "    .dataframe thead th {\n",
       "        text-align: right;\n",
       "    }\n",
       "</style>\n",
       "<table border=\"1\" class=\"dataframe\">\n",
       "  <thead>\n",
       "    <tr style=\"text-align: right;\">\n",
       "      <th></th>\n",
       "      <th>0</th>\n",
       "      <th>1</th>\n",
       "      <th>2</th>\n",
       "      <th>3</th>\n",
       "      <th>4</th>\n",
       "    </tr>\n",
       "  </thead>\n",
       "  <tbody>\n",
       "    <tr>\n",
       "      <th>store</th>\n",
       "      <td>1</td>\n",
       "      <td>2</td>\n",
       "      <td>3</td>\n",
       "      <td>4</td>\n",
       "      <td>5</td>\n",
       "    </tr>\n",
       "    <tr>\n",
       "      <th>day_of_week</th>\n",
       "      <td>5</td>\n",
       "      <td>5</td>\n",
       "      <td>5</td>\n",
       "      <td>5</td>\n",
       "      <td>5</td>\n",
       "    </tr>\n",
       "    <tr>\n",
       "      <th>date</th>\n",
       "      <td>2015-07-31 00:00:00</td>\n",
       "      <td>2015-07-31 00:00:00</td>\n",
       "      <td>2015-07-31 00:00:00</td>\n",
       "      <td>2015-07-31 00:00:00</td>\n",
       "      <td>2015-07-31 00:00:00</td>\n",
       "    </tr>\n",
       "    <tr>\n",
       "      <th>sales</th>\n",
       "      <td>5263</td>\n",
       "      <td>6064</td>\n",
       "      <td>8314</td>\n",
       "      <td>13995</td>\n",
       "      <td>4822</td>\n",
       "    </tr>\n",
       "    <tr>\n",
       "      <th>customers</th>\n",
       "      <td>555</td>\n",
       "      <td>625</td>\n",
       "      <td>821</td>\n",
       "      <td>1498</td>\n",
       "      <td>559</td>\n",
       "    </tr>\n",
       "    <tr>\n",
       "      <th>open</th>\n",
       "      <td>1</td>\n",
       "      <td>1</td>\n",
       "      <td>1</td>\n",
       "      <td>1</td>\n",
       "      <td>1</td>\n",
       "    </tr>\n",
       "    <tr>\n",
       "      <th>promo</th>\n",
       "      <td>1</td>\n",
       "      <td>1</td>\n",
       "      <td>1</td>\n",
       "      <td>1</td>\n",
       "      <td>1</td>\n",
       "    </tr>\n",
       "    <tr>\n",
       "      <th>state_holiday</th>\n",
       "      <td>regular_day</td>\n",
       "      <td>regular_day</td>\n",
       "      <td>regular_day</td>\n",
       "      <td>regular_day</td>\n",
       "      <td>regular_day</td>\n",
       "    </tr>\n",
       "    <tr>\n",
       "      <th>school_holiday</th>\n",
       "      <td>1</td>\n",
       "      <td>1</td>\n",
       "      <td>1</td>\n",
       "      <td>1</td>\n",
       "      <td>1</td>\n",
       "    </tr>\n",
       "    <tr>\n",
       "      <th>store_type</th>\n",
       "      <td>c</td>\n",
       "      <td>a</td>\n",
       "      <td>a</td>\n",
       "      <td>c</td>\n",
       "      <td>a</td>\n",
       "    </tr>\n",
       "    <tr>\n",
       "      <th>assortment</th>\n",
       "      <td>basic</td>\n",
       "      <td>basic</td>\n",
       "      <td>basic</td>\n",
       "      <td>extended</td>\n",
       "      <td>basic</td>\n",
       "    </tr>\n",
       "    <tr>\n",
       "      <th>competition_distance</th>\n",
       "      <td>1270.0</td>\n",
       "      <td>570.0</td>\n",
       "      <td>14130.0</td>\n",
       "      <td>620.0</td>\n",
       "      <td>29910.0</td>\n",
       "    </tr>\n",
       "    <tr>\n",
       "      <th>competition_open_since_month</th>\n",
       "      <td>9</td>\n",
       "      <td>11</td>\n",
       "      <td>12</td>\n",
       "      <td>9</td>\n",
       "      <td>4</td>\n",
       "    </tr>\n",
       "    <tr>\n",
       "      <th>competition_open_since_year</th>\n",
       "      <td>2008</td>\n",
       "      <td>2007</td>\n",
       "      <td>2006</td>\n",
       "      <td>2009</td>\n",
       "      <td>2015</td>\n",
       "    </tr>\n",
       "    <tr>\n",
       "      <th>promo2</th>\n",
       "      <td>0</td>\n",
       "      <td>1</td>\n",
       "      <td>1</td>\n",
       "      <td>0</td>\n",
       "      <td>0</td>\n",
       "    </tr>\n",
       "    <tr>\n",
       "      <th>promo2_since_week</th>\n",
       "      <td>31</td>\n",
       "      <td>13</td>\n",
       "      <td>14</td>\n",
       "      <td>31</td>\n",
       "      <td>31</td>\n",
       "    </tr>\n",
       "    <tr>\n",
       "      <th>promo2_since_year</th>\n",
       "      <td>2015</td>\n",
       "      <td>2010</td>\n",
       "      <td>2011</td>\n",
       "      <td>2015</td>\n",
       "      <td>2015</td>\n",
       "    </tr>\n",
       "    <tr>\n",
       "      <th>promo_interval</th>\n",
       "      <td>0</td>\n",
       "      <td>Jan,Apr,Jul,Oct</td>\n",
       "      <td>Jan,Apr,Jul,Oct</td>\n",
       "      <td>0</td>\n",
       "      <td>0</td>\n",
       "    </tr>\n",
       "    <tr>\n",
       "      <th>month_map</th>\n",
       "      <td>Jul</td>\n",
       "      <td>Jul</td>\n",
       "      <td>Jul</td>\n",
       "      <td>Jul</td>\n",
       "      <td>Jul</td>\n",
       "    </tr>\n",
       "    <tr>\n",
       "      <th>is_promo</th>\n",
       "      <td>0</td>\n",
       "      <td>1</td>\n",
       "      <td>1</td>\n",
       "      <td>0</td>\n",
       "      <td>0</td>\n",
       "    </tr>\n",
       "    <tr>\n",
       "      <th>year</th>\n",
       "      <td>2015</td>\n",
       "      <td>2015</td>\n",
       "      <td>2015</td>\n",
       "      <td>2015</td>\n",
       "      <td>2015</td>\n",
       "    </tr>\n",
       "    <tr>\n",
       "      <th>month</th>\n",
       "      <td>7</td>\n",
       "      <td>7</td>\n",
       "      <td>7</td>\n",
       "      <td>7</td>\n",
       "      <td>7</td>\n",
       "    </tr>\n",
       "    <tr>\n",
       "      <th>day</th>\n",
       "      <td>31</td>\n",
       "      <td>31</td>\n",
       "      <td>31</td>\n",
       "      <td>31</td>\n",
       "      <td>31</td>\n",
       "    </tr>\n",
       "    <tr>\n",
       "      <th>week_of_year</th>\n",
       "      <td>31</td>\n",
       "      <td>31</td>\n",
       "      <td>31</td>\n",
       "      <td>31</td>\n",
       "      <td>31</td>\n",
       "    </tr>\n",
       "    <tr>\n",
       "      <th>year_week</th>\n",
       "      <td>2015-30</td>\n",
       "      <td>2015-30</td>\n",
       "      <td>2015-30</td>\n",
       "      <td>2015-30</td>\n",
       "      <td>2015-30</td>\n",
       "    </tr>\n",
       "    <tr>\n",
       "      <th>competition_since</th>\n",
       "      <td>2008-09-01 00:00:00</td>\n",
       "      <td>2007-11-01 00:00:00</td>\n",
       "      <td>2006-12-01 00:00:00</td>\n",
       "      <td>2009-09-01 00:00:00</td>\n",
       "      <td>2015-04-01 00:00:00</td>\n",
       "    </tr>\n",
       "    <tr>\n",
       "      <th>competition_time_month</th>\n",
       "      <td>84</td>\n",
       "      <td>94</td>\n",
       "      <td>105</td>\n",
       "      <td>71</td>\n",
       "      <td>4</td>\n",
       "    </tr>\n",
       "    <tr>\n",
       "      <th>promo_since</th>\n",
       "      <td>2015-07-27 00:00:00</td>\n",
       "      <td>2010-03-22 00:00:00</td>\n",
       "      <td>2011-03-28 00:00:00</td>\n",
       "      <td>2015-07-27 00:00:00</td>\n",
       "      <td>2015-07-27 00:00:00</td>\n",
       "    </tr>\n",
       "    <tr>\n",
       "      <th>promo_time_week</th>\n",
       "      <td>0</td>\n",
       "      <td>279</td>\n",
       "      <td>226</td>\n",
       "      <td>0</td>\n",
       "      <td>0</td>\n",
       "    </tr>\n",
       "  </tbody>\n",
       "</table>\n",
       "</div>"
      ],
      "text/plain": [
       "                                                0                    1  \\\n",
       "store                                           1                    2   \n",
       "day_of_week                                     5                    5   \n",
       "date                          2015-07-31 00:00:00  2015-07-31 00:00:00   \n",
       "sales                                        5263                 6064   \n",
       "customers                                     555                  625   \n",
       "open                                            1                    1   \n",
       "promo                                           1                    1   \n",
       "state_holiday                         regular_day          regular_day   \n",
       "school_holiday                                  1                    1   \n",
       "store_type                                      c                    a   \n",
       "assortment                                  basic                basic   \n",
       "competition_distance                       1270.0                570.0   \n",
       "competition_open_since_month                    9                   11   \n",
       "competition_open_since_year                  2008                 2007   \n",
       "promo2                                          0                    1   \n",
       "promo2_since_week                              31                   13   \n",
       "promo2_since_year                            2015                 2010   \n",
       "promo_interval                                  0      Jan,Apr,Jul,Oct   \n",
       "month_map                                     Jul                  Jul   \n",
       "is_promo                                        0                    1   \n",
       "year                                         2015                 2015   \n",
       "month                                           7                    7   \n",
       "day                                            31                   31   \n",
       "week_of_year                                   31                   31   \n",
       "year_week                                 2015-30              2015-30   \n",
       "competition_since             2008-09-01 00:00:00  2007-11-01 00:00:00   \n",
       "competition_time_month                         84                   94   \n",
       "promo_since                   2015-07-27 00:00:00  2010-03-22 00:00:00   \n",
       "promo_time_week                                 0                  279   \n",
       "\n",
       "                                                2                    3  \\\n",
       "store                                           3                    4   \n",
       "day_of_week                                     5                    5   \n",
       "date                          2015-07-31 00:00:00  2015-07-31 00:00:00   \n",
       "sales                                        8314                13995   \n",
       "customers                                     821                 1498   \n",
       "open                                            1                    1   \n",
       "promo                                           1                    1   \n",
       "state_holiday                         regular_day          regular_day   \n",
       "school_holiday                                  1                    1   \n",
       "store_type                                      a                    c   \n",
       "assortment                                  basic             extended   \n",
       "competition_distance                      14130.0                620.0   \n",
       "competition_open_since_month                   12                    9   \n",
       "competition_open_since_year                  2006                 2009   \n",
       "promo2                                          1                    0   \n",
       "promo2_since_week                              14                   31   \n",
       "promo2_since_year                            2011                 2015   \n",
       "promo_interval                    Jan,Apr,Jul,Oct                    0   \n",
       "month_map                                     Jul                  Jul   \n",
       "is_promo                                        1                    0   \n",
       "year                                         2015                 2015   \n",
       "month                                           7                    7   \n",
       "day                                            31                   31   \n",
       "week_of_year                                   31                   31   \n",
       "year_week                                 2015-30              2015-30   \n",
       "competition_since             2006-12-01 00:00:00  2009-09-01 00:00:00   \n",
       "competition_time_month                        105                   71   \n",
       "promo_since                   2011-03-28 00:00:00  2015-07-27 00:00:00   \n",
       "promo_time_week                               226                    0   \n",
       "\n",
       "                                                4  \n",
       "store                                           5  \n",
       "day_of_week                                     5  \n",
       "date                          2015-07-31 00:00:00  \n",
       "sales                                        4822  \n",
       "customers                                     559  \n",
       "open                                            1  \n",
       "promo                                           1  \n",
       "state_holiday                         regular_day  \n",
       "school_holiday                                  1  \n",
       "store_type                                      a  \n",
       "assortment                                  basic  \n",
       "competition_distance                      29910.0  \n",
       "competition_open_since_month                    4  \n",
       "competition_open_since_year                  2015  \n",
       "promo2                                          0  \n",
       "promo2_since_week                              31  \n",
       "promo2_since_year                            2015  \n",
       "promo_interval                                  0  \n",
       "month_map                                     Jul  \n",
       "is_promo                                        0  \n",
       "year                                         2015  \n",
       "month                                           7  \n",
       "day                                            31  \n",
       "week_of_year                                   31  \n",
       "year_week                                 2015-30  \n",
       "competition_since             2015-04-01 00:00:00  \n",
       "competition_time_month                          4  \n",
       "promo_since                   2015-07-27 00:00:00  \n",
       "promo_time_week                                 0  "
      ]
     },
     "execution_count": 26,
     "metadata": {},
     "output_type": "execute_result"
    }
   ],
   "source": [
    "df2.head().T"
   ]
  },
  {
   "cell_type": "markdown",
   "id": "67df5327-6022-4402-9b70-01ca1de8e8c4",
   "metadata": {},
   "source": [
    "# 3.0 FILTRAGEM DE VARIÁVEIS"
   ]
  },
  {
   "cell_type": "markdown",
   "id": "ac9f7b0c-3946-40ab-8bf6-99dc94e730f8",
   "metadata": {},
   "source": [
    "A motivação para a filtragem de negócios são as restrições de negócio. É possível que, lá na frente, o CD se depara com a impossibilidade de colocar o modelo em produção. Isso ocorre, principalmente, devido à falta de consideração das restrições de negócio. Por isso ela é importante estar dentro do início do ciclo do CRISP. <br>\n",
    "Um exemplo de restrição de negócios que foi mencionado na aula: no desenvolvimento de um projeto para previsão de vendas de um produto, verificou-se que a variável \"desconto aplicado\" tinha forte correlação com o volume de vendas. O modelo então foi treinado usando-se essa variável. Mas o time de negócios falou que era impossível saber o desconto antes do produto ser lançado. Logo, no momento da predição, na produção, não é possível usá-la. Por isso é importante filtrar as variáveis antes de começar o projeto em si."
   ]
  },
  {
   "cell_type": "code",
   "execution_count": 33,
   "id": "904263de-975d-42b2-b819-53935590e0aa",
   "metadata": {
    "execution": {
     "iopub.execute_input": "2021-04-28T10:41:41.386000Z",
     "iopub.status.busy": "2021-04-28T10:41:41.386000Z",
     "iopub.status.idle": "2021-04-28T10:41:41.635000Z",
     "shell.execute_reply": "2021-04-28T10:41:41.635000Z",
     "shell.execute_reply.started": "2021-04-28T10:41:41.386000Z"
    },
    "tags": []
   },
   "outputs": [
    {
     "data": {
      "text/html": [
       "<div>\n",
       "<style scoped>\n",
       "    .dataframe tbody tr th:only-of-type {\n",
       "        vertical-align: middle;\n",
       "    }\n",
       "\n",
       "    .dataframe tbody tr th {\n",
       "        vertical-align: top;\n",
       "    }\n",
       "\n",
       "    .dataframe thead th {\n",
       "        text-align: right;\n",
       "    }\n",
       "</style>\n",
       "<table border=\"1\" class=\"dataframe\">\n",
       "  <thead>\n",
       "    <tr style=\"text-align: right;\">\n",
       "      <th></th>\n",
       "      <th>store</th>\n",
       "      <th>day_of_week</th>\n",
       "      <th>date</th>\n",
       "      <th>sales</th>\n",
       "      <th>customers</th>\n",
       "      <th>open</th>\n",
       "      <th>promo</th>\n",
       "      <th>state_holiday</th>\n",
       "      <th>school_holiday</th>\n",
       "      <th>store_type</th>\n",
       "      <th>...</th>\n",
       "      <th>is_promo</th>\n",
       "      <th>year</th>\n",
       "      <th>month</th>\n",
       "      <th>day</th>\n",
       "      <th>week_of_year</th>\n",
       "      <th>year_week</th>\n",
       "      <th>competition_since</th>\n",
       "      <th>competition_time_month</th>\n",
       "      <th>promo_since</th>\n",
       "      <th>promo_time_week</th>\n",
       "    </tr>\n",
       "  </thead>\n",
       "  <tbody>\n",
       "    <tr>\n",
       "      <th>0</th>\n",
       "      <td>1</td>\n",
       "      <td>5</td>\n",
       "      <td>2015-07-31</td>\n",
       "      <td>5263</td>\n",
       "      <td>555</td>\n",
       "      <td>1</td>\n",
       "      <td>1</td>\n",
       "      <td>regular_day</td>\n",
       "      <td>1</td>\n",
       "      <td>c</td>\n",
       "      <td>...</td>\n",
       "      <td>0</td>\n",
       "      <td>2015</td>\n",
       "      <td>7</td>\n",
       "      <td>31</td>\n",
       "      <td>31</td>\n",
       "      <td>2015-30</td>\n",
       "      <td>2008-09-01</td>\n",
       "      <td>84</td>\n",
       "      <td>2015-07-27</td>\n",
       "      <td>0</td>\n",
       "    </tr>\n",
       "    <tr>\n",
       "      <th>1</th>\n",
       "      <td>2</td>\n",
       "      <td>5</td>\n",
       "      <td>2015-07-31</td>\n",
       "      <td>6064</td>\n",
       "      <td>625</td>\n",
       "      <td>1</td>\n",
       "      <td>1</td>\n",
       "      <td>regular_day</td>\n",
       "      <td>1</td>\n",
       "      <td>a</td>\n",
       "      <td>...</td>\n",
       "      <td>1</td>\n",
       "      <td>2015</td>\n",
       "      <td>7</td>\n",
       "      <td>31</td>\n",
       "      <td>31</td>\n",
       "      <td>2015-30</td>\n",
       "      <td>2007-11-01</td>\n",
       "      <td>94</td>\n",
       "      <td>2010-03-22</td>\n",
       "      <td>279</td>\n",
       "    </tr>\n",
       "    <tr>\n",
       "      <th>2</th>\n",
       "      <td>3</td>\n",
       "      <td>5</td>\n",
       "      <td>2015-07-31</td>\n",
       "      <td>8314</td>\n",
       "      <td>821</td>\n",
       "      <td>1</td>\n",
       "      <td>1</td>\n",
       "      <td>regular_day</td>\n",
       "      <td>1</td>\n",
       "      <td>a</td>\n",
       "      <td>...</td>\n",
       "      <td>1</td>\n",
       "      <td>2015</td>\n",
       "      <td>7</td>\n",
       "      <td>31</td>\n",
       "      <td>31</td>\n",
       "      <td>2015-30</td>\n",
       "      <td>2006-12-01</td>\n",
       "      <td>105</td>\n",
       "      <td>2011-03-28</td>\n",
       "      <td>226</td>\n",
       "    </tr>\n",
       "    <tr>\n",
       "      <th>3</th>\n",
       "      <td>4</td>\n",
       "      <td>5</td>\n",
       "      <td>2015-07-31</td>\n",
       "      <td>13995</td>\n",
       "      <td>1498</td>\n",
       "      <td>1</td>\n",
       "      <td>1</td>\n",
       "      <td>regular_day</td>\n",
       "      <td>1</td>\n",
       "      <td>c</td>\n",
       "      <td>...</td>\n",
       "      <td>0</td>\n",
       "      <td>2015</td>\n",
       "      <td>7</td>\n",
       "      <td>31</td>\n",
       "      <td>31</td>\n",
       "      <td>2015-30</td>\n",
       "      <td>2009-09-01</td>\n",
       "      <td>71</td>\n",
       "      <td>2015-07-27</td>\n",
       "      <td>0</td>\n",
       "    </tr>\n",
       "    <tr>\n",
       "      <th>4</th>\n",
       "      <td>5</td>\n",
       "      <td>5</td>\n",
       "      <td>2015-07-31</td>\n",
       "      <td>4822</td>\n",
       "      <td>559</td>\n",
       "      <td>1</td>\n",
       "      <td>1</td>\n",
       "      <td>regular_day</td>\n",
       "      <td>1</td>\n",
       "      <td>a</td>\n",
       "      <td>...</td>\n",
       "      <td>0</td>\n",
       "      <td>2015</td>\n",
       "      <td>7</td>\n",
       "      <td>31</td>\n",
       "      <td>31</td>\n",
       "      <td>2015-30</td>\n",
       "      <td>2015-04-01</td>\n",
       "      <td>4</td>\n",
       "      <td>2015-07-27</td>\n",
       "      <td>0</td>\n",
       "    </tr>\n",
       "  </tbody>\n",
       "</table>\n",
       "<p>5 rows × 29 columns</p>\n",
       "</div>"
      ],
      "text/plain": [
       "   store  day_of_week       date  sales  customers  open  promo state_holiday  \\\n",
       "0      1            5 2015-07-31   5263        555     1      1   regular_day   \n",
       "1      2            5 2015-07-31   6064        625     1      1   regular_day   \n",
       "2      3            5 2015-07-31   8314        821     1      1   regular_day   \n",
       "3      4            5 2015-07-31  13995       1498     1      1   regular_day   \n",
       "4      5            5 2015-07-31   4822        559     1      1   regular_day   \n",
       "\n",
       "   school_holiday store_type  ... is_promo  year  month  day  week_of_year  \\\n",
       "0               1          c  ...        0  2015      7   31            31   \n",
       "1               1          a  ...        1  2015      7   31            31   \n",
       "2               1          a  ...        1  2015      7   31            31   \n",
       "3               1          c  ...        0  2015      7   31            31   \n",
       "4               1          a  ...        0  2015      7   31            31   \n",
       "\n",
       "   year_week  competition_since competition_time_month promo_since  \\\n",
       "0    2015-30         2008-09-01                     84  2015-07-27   \n",
       "1    2015-30         2007-11-01                     94  2010-03-22   \n",
       "2    2015-30         2006-12-01                    105  2011-03-28   \n",
       "3    2015-30         2009-09-01                     71  2015-07-27   \n",
       "4    2015-30         2015-04-01                      4  2015-07-27   \n",
       "\n",
       "   promo_time_week  \n",
       "0                0  \n",
       "1              279  \n",
       "2              226  \n",
       "3                0  \n",
       "4                0  \n",
       "\n",
       "[5 rows x 29 columns]"
      ]
     },
     "execution_count": 33,
     "metadata": {},
     "output_type": "execute_result"
    }
   ],
   "source": [
    "df3 = df2.copy()\n",
    "df3.head()"
   ]
  },
  {
   "cell_type": "code",
   "execution_count": 34,
   "id": "b24145b9-2480-45fe-91b1-bcd70da509e6",
   "metadata": {
    "execution": {
     "iopub.execute_input": "2021-04-28T10:44:29.610000Z",
     "iopub.status.busy": "2021-04-28T10:44:29.610000Z",
     "iopub.status.idle": "2021-04-28T10:44:29.640000Z",
     "shell.execute_reply": "2021-04-28T10:44:29.640000Z",
     "shell.execute_reply.started": "2021-04-28T10:44:29.61000Z"
    }
   },
   "outputs": [
    {
     "data": {
      "text/plain": [
       "Index(['store', 'day_of_week', 'date', 'sales', 'customers', 'open', 'promo',\n",
       "       'state_holiday', 'school_holiday', 'store_type', 'assortment',\n",
       "       'competition_distance', 'competition_open_since_month',\n",
       "       'competition_open_since_year', 'promo2', 'promo2_since_week',\n",
       "       'promo2_since_year', 'promo_interval', 'month_map', 'is_promo', 'year',\n",
       "       'month', 'day', 'week_of_year', 'year_week', 'competition_since',\n",
       "       'competition_time_month', 'promo_since', 'promo_time_week'],\n",
       "      dtype='object')"
      ]
     },
     "execution_count": 34,
     "metadata": {},
     "output_type": "execute_result"
    }
   ],
   "source": [
    "df3.columns"
   ]
  },
  {
   "cell_type": "markdown",
   "id": "6356bed3-b981-492d-a8db-2314dc6f159d",
   "metadata": {
    "tags": []
   },
   "source": [
    "## 3.1 Filtragem das linhas"
   ]
  },
  {
   "cell_type": "code",
   "execution_count": 37,
   "id": "46f8de2e-ed4a-4238-9b1f-1a35a6508107",
   "metadata": {
    "execution": {
     "iopub.execute_input": "2021-04-28T10:51:23.424000Z",
     "iopub.status.busy": "2021-04-28T10:51:23.423000Z",
     "iopub.status.idle": "2021-04-28T10:51:23.697000Z",
     "shell.execute_reply": "2021-04-28T10:51:23.697000Z",
     "shell.execute_reply.started": "2021-04-28T10:51:23.424000Z"
    },
    "tags": []
   },
   "outputs": [],
   "source": [
    "# a coluna \"open\" indica se a loja está aberta (1) ou fechada (0); porém quando ela está fechada, as vendas são 0; logo não tenho nenhum aprendizado extraído das linhas onde \"open\" é igual a 0\n",
    "# a coluna \"sales\" quando indica o valor 0, semelhantemente em relação à coluna \"open\", não há aprendizado a ser extraído, logo não usarei as linhas onde isso ocorre\n",
    "\n",
    "df3 = df3[(df3['open'] != 0) & (df3['sales'] > 0)]"
   ]
  },
  {
   "cell_type": "markdown",
   "id": "cbfb8bfb-a4ba-42db-bda8-af7bc1b2a516",
   "metadata": {
    "tags": []
   },
   "source": [
    "## 3.2 Seleção das colunas"
   ]
  },
  {
   "cell_type": "code",
   "execution_count": 41,
   "id": "27984321-7266-4294-bd8c-475594e5bc63",
   "metadata": {
    "execution": {
     "iopub.execute_input": "2021-04-28T10:56:10.587000Z",
     "iopub.status.busy": "2021-04-28T10:56:10.587000Z",
     "iopub.status.idle": "2021-04-28T10:56:10.748000Z",
     "shell.execute_reply": "2021-04-28T10:56:10.748000Z",
     "shell.execute_reply.started": "2021-04-28T10:56:10.587000Z"
    },
    "tags": []
   },
   "outputs": [],
   "source": [
    "# a coluna \"customers\" não temos no momento da predição; não sabemos quantos customers terão daqui 6 semanas (para isso seria necessário um outro projeto)\n",
    "# também serão excluídas as colunas 'open' (que após 3.1 só apresenta o valor '1') e as colunas 'promo_interval' e 'month_map' que foram utilizadas para derivar a coluna 'is_promo'\n",
    "cols_drop = ['customers', 'open', 'promo_interval', 'month_map']\n",
    "df3 = df3.drop(cols_drop, axis=1)"
   ]
  },
  {
   "cell_type": "code",
   "execution_count": 43,
   "id": "2d525340-3360-45eb-bace-65e22a126fd9",
   "metadata": {
    "execution": {
     "iopub.execute_input": "2021-04-28T11:00:45.392000Z",
     "iopub.status.busy": "2021-04-28T11:00:45.392000Z",
     "iopub.status.idle": "2021-04-28T11:00:45.393000Z",
     "shell.execute_reply": "2021-04-28T11:00:45.393000Z",
     "shell.execute_reply.started": "2021-04-28T11:00:45.392000Z"
    }
   },
   "outputs": [
    {
     "name": "stdout",
     "output_type": "stream",
     "text": [
      "hello\n"
     ]
    }
   ],
   "source": [
    "print(\"hello\")"
   ]
  },
  {
   "cell_type": "code",
   "execution_count": null,
   "id": "a27bb400-0370-44b9-83c6-d19ada77ee68",
   "metadata": {},
   "outputs": [],
   "source": []
  }
 ],
 "metadata": {
  "kernelspec": {
   "display_name": "Python 3.7 (XPython)",
   "language": "python",
   "name": "xpython"
  },
  "language_info": {
   "file_extension": ".py",
   "mimetype": "text/x-python",
   "name": "python",
   "version": "3.7.10"
  },
  "toc-autonumbering": false,
  "toc-showcode": false,
  "toc-showmarkdowntxt": false,
  "toc-showtags": false
 },
 "nbformat": 4,
 "nbformat_minor": 5
}
