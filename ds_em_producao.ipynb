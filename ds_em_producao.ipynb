{
 "cells": [
  {
   "cell_type": "markdown",
   "id": "super-status",
   "metadata": {
    "slideshow": {
     "slide_type": "notes"
    },
    "tags": []
   },
   "source": [
    "# 0.0. IMPORTS"
   ]
  },
  {
   "cell_type": "code",
   "execution_count": 233,
   "id": "intelligent-drink",
   "metadata": {
    "execution": {
     "iopub.execute_input": "2021-04-08T13:31:04.587400Z",
     "iopub.status.busy": "2021-04-08T13:31:04.587400Z",
     "iopub.status.idle": "2021-04-08T13:31:04.590400Z",
     "shell.execute_reply": "2021-04-08T13:31:04.590400Z",
     "shell.execute_reply.started": "2021-04-08T13:31:04.587400Z"
    },
    "scrolled": true,
    "tags": []
   },
   "outputs": [],
   "source": [
    "import pandas as pd\n",
    "import inflection\n",
    "import math"
   ]
  },
  {
   "cell_type": "markdown",
   "id": "ranking-championship",
   "metadata": {
    "heading_collapsed": "true",
    "tags": []
   },
   "source": [
    "## 0.1. Helper Functions"
   ]
  },
  {
   "cell_type": "markdown",
   "id": "guilty-compression",
   "metadata": {
    "tags": []
   },
   "source": [
    "## 0.2. Loading data"
   ]
  },
  {
   "cell_type": "code",
   "execution_count": 234,
   "id": "occupational-foster",
   "metadata": {
    "execution": {
     "iopub.execute_input": "2021-04-08T13:31:04.592400Z",
     "iopub.status.busy": "2021-04-08T13:31:04.592400Z",
     "iopub.status.idle": "2021-04-08T13:31:06.548400Z",
     "shell.execute_reply": "2021-04-08T13:31:06.547400Z",
     "shell.execute_reply.started": "2021-04-08T13:31:04.592400Z"
    },
    "tags": []
   },
   "outputs": [],
   "source": [
    "df_sales_raw = pd.read_csv( 'data/train.csv', low_memory = False)\n",
    "df_store_raw = pd.read_csv( 'data/store.csv', low_memory = False)\n",
    "\n",
    "# merge\n",
    "df_raw = pd.merge(df_sales_raw,df_store_raw, how='left', on = 'Store' )"
   ]
  },
  {
   "cell_type": "markdown",
   "id": "effective-planning",
   "metadata": {
    "tags": []
   },
   "source": [
    "# 1.0. DESCRICAO DOS DADOS"
   ]
  },
  {
   "cell_type": "code",
   "execution_count": 235,
   "id": "racial-stereo",
   "metadata": {
    "execution": {
     "iopub.execute_input": "2021-04-08T13:31:06.551400Z",
     "iopub.status.busy": "2021-04-08T13:31:06.550400Z",
     "iopub.status.idle": "2021-04-08T13:31:06.770400Z",
     "shell.execute_reply": "2021-04-08T13:31:06.769400Z",
     "shell.execute_reply.started": "2021-04-08T13:31:06.551400Z"
    },
    "tags": []
   },
   "outputs": [],
   "source": [
    "# é interessante copiar o df no início de cada seção para evitar que, caso seja alterado o conteúdo do df, não seja necessário rodar todo o código novamente\n",
    "df1 = df_raw.copy()"
   ]
  },
  {
   "cell_type": "markdown",
   "id": "endless-travel",
   "metadata": {
    "tags": []
   },
   "source": [
    "## 1.1. Rename Columns"
   ]
  },
  {
   "cell_type": "code",
   "execution_count": 236,
   "id": "ranging-malaysia",
   "metadata": {
    "execution": {
     "iopub.execute_input": "2021-04-08T13:31:06.771400Z",
     "iopub.status.busy": "2021-04-08T13:31:06.771400Z",
     "iopub.status.idle": "2021-04-08T13:31:06.777400Z",
     "shell.execute_reply": "2021-04-08T13:31:06.776400Z",
     "shell.execute_reply.started": "2021-04-08T13:31:06.771400Z"
    },
    "tags": []
   },
   "outputs": [],
   "source": [
    "cols_old = ['Store', 'DayOfWeek', 'Date', 'Sales', 'Customers', 'Open', 'Promo','zStateHoliday', 'SchoolHoliday', 'StoreType', 'Assortment',\n",
    "            'CompetitionDistance', 'CompetitionOpenSinceMonth','CompetitionOpenSinceYear', 'Promo2', 'Promo2SinceWeek','Promo2SinceYear', 'PromoInterval']\n",
    "\n",
    "snakecase = lambda x: inflection.underscore(x)\n",
    "cols_new = list(map(snakecase,cols_old))\n",
    "df1.columns = cols_new"
   ]
  },
  {
   "cell_type": "code",
   "execution_count": null,
   "id": "consistent-delta",
   "metadata": {},
   "outputs": [],
   "source": []
  },
  {
   "cell_type": "markdown",
   "id": "delayed-blond",
   "metadata": {
    "tags": []
   },
   "source": [
    "## 1.2 Data Dimensions"
   ]
  },
  {
   "cell_type": "code",
   "execution_count": 237,
   "id": "fatty-refrigerator",
   "metadata": {
    "execution": {
     "iopub.execute_input": "2021-04-08T13:31:06.778400Z",
     "iopub.status.busy": "2021-04-08T13:31:06.778400Z",
     "iopub.status.idle": "2021-04-08T13:31:06.794400Z",
     "shell.execute_reply": "2021-04-08T13:31:06.793400Z",
     "shell.execute_reply.started": "2021-04-08T13:31:06.778400Z"
    },
    "tags": []
   },
   "outputs": [
    {
     "name": "stdout",
     "output_type": "stream",
     "text": [
      "Number of Rows: 1017209\n",
      "Number of Columns: 18\n"
     ]
    }
   ],
   "source": [
    "# imprimir o número de linhas e colunas usando 2 maneiras de interpolar strings\n",
    "print(f'Number of Rows: {df1.shape[0]}')\n",
    "print('Number of Columns: {}'.format(df1.shape[1]))"
   ]
  },
  {
   "cell_type": "markdown",
   "id": "material-indian",
   "metadata": {},
   "source": [
    "## 1.3 Data Types"
   ]
  },
  {
   "cell_type": "code",
   "execution_count": 238,
   "id": "wicked-search",
   "metadata": {
    "execution": {
     "iopub.execute_input": "2021-04-08T13:31:06.796400Z",
     "iopub.status.busy": "2021-04-08T13:31:06.796400Z",
     "iopub.status.idle": "2021-04-08T13:31:06.966400Z",
     "shell.execute_reply": "2021-04-08T13:31:06.966400Z",
     "shell.execute_reply.started": "2021-04-08T13:31:06.796400Z"
    },
    "tags": []
   },
   "outputs": [
    {
     "data": {
      "text/plain": [
       "store                                    int64\n",
       "day_of_week                              int64\n",
       "date                            datetime64[ns]\n",
       "sales                                    int64\n",
       "customers                                int64\n",
       "open                                     int64\n",
       "promo                                    int64\n",
       "z_state_holiday                         object\n",
       "school_holiday                           int64\n",
       "store_type                              object\n",
       "assortment                              object\n",
       "competition_distance                   float64\n",
       "competition_open_since_month           float64\n",
       "competition_open_since_year            float64\n",
       "promo2                                   int64\n",
       "promo2_since_week                      float64\n",
       "promo2_since_year                      float64\n",
       "promo_interval                          object\n",
       "dtype: object"
      ]
     },
     "execution_count": 238,
     "metadata": {},
     "output_type": "execute_result"
    }
   ],
   "source": [
    "# inicialmente, o date é object\n",
    "# deve-se alterar o tipo do date\n",
    "df1['date'] = pd.to_datetime(df1['date'])\n",
    "\n",
    "df1.dtypes"
   ]
  },
  {
   "cell_type": "markdown",
   "id": "bridal-egypt",
   "metadata": {
    "tags": []
   },
   "source": [
    "## 1.4 Check NA"
   ]
  },
  {
   "cell_type": "code",
   "execution_count": 239,
   "id": "stretch-repository",
   "metadata": {
    "execution": {
     "iopub.execute_input": "2021-04-08T13:31:06.968400Z",
     "iopub.status.busy": "2021-04-08T13:31:06.967400Z",
     "iopub.status.idle": "2021-04-08T13:31:07.181400Z",
     "shell.execute_reply": "2021-04-08T13:31:07.181400Z",
     "shell.execute_reply.started": "2021-04-08T13:31:06.968400Z"
    },
    "tags": []
   },
   "outputs": [
    {
     "data": {
      "text/plain": [
       "store                                0\n",
       "day_of_week                          0\n",
       "date                                 0\n",
       "sales                                0\n",
       "customers                            0\n",
       "open                                 0\n",
       "promo                                0\n",
       "z_state_holiday                      0\n",
       "school_holiday                       0\n",
       "store_type                           0\n",
       "assortment                           0\n",
       "competition_distance              2642\n",
       "competition_open_since_month    323348\n",
       "competition_open_since_year     323348\n",
       "promo2                               0\n",
       "promo2_since_week               508031\n",
       "promo2_since_year               508031\n",
       "promo_interval                  508031\n",
       "dtype: int64"
      ]
     },
     "execution_count": 239,
     "metadata": {},
     "output_type": "execute_result"
    }
   ],
   "source": [
    "df1.isna().sum()"
   ]
  },
  {
   "cell_type": "code",
   "execution_count": 240,
   "id": "discrete-balance",
   "metadata": {
    "execution": {
     "iopub.execute_input": "2021-04-08T13:31:07.184400Z",
     "iopub.status.busy": "2021-04-08T13:31:07.183400Z",
     "iopub.status.idle": "2021-04-08T13:31:07.202400Z",
     "shell.execute_reply": "2021-04-08T13:31:07.201400Z",
     "shell.execute_reply.started": "2021-04-08T13:31:07.184400Z"
    }
   },
   "outputs": [
    {
     "data": {
      "text/plain": [
       "1    509178\n",
       "0    508031\n",
       "Name: promo2, dtype: int64"
      ]
     },
     "execution_count": 240,
     "metadata": {},
     "output_type": "execute_result"
    }
   ],
   "source": [
    "df1[\"promo2\"].value_counts()"
   ]
  },
  {
   "cell_type": "markdown",
   "id": "shared-philip",
   "metadata": {
    "tags": []
   },
   "source": [
    "## 1.5 Fillout NA"
   ]
  },
  {
   "cell_type": "markdown",
   "id": "decimal-suffering",
   "metadata": {},
   "source": [
    "Existem 3 métodos principais: <br>\n",
    "    - Removo todas as linhas com NA, que possui a imensa desvantagem de perder muita informação\n",
    "    - Uso algum algoritmo para preencher os dados NA, como média, mediana ou algum ML para estimar os valores\n",
    "    - Entender a razão pela qual é NA; sempre devo começar por este método, pois eventualmente o NA era esperado\n",
    "    "
   ]
  },
  {
   "cell_type": "code",
   "execution_count": 241,
   "id": "ordered-concept",
   "metadata": {
    "execution": {
     "iopub.execute_input": "2021-04-08T13:31:07.203400Z",
     "iopub.status.busy": "2021-04-08T13:31:07.203400Z",
     "iopub.status.idle": "2021-04-08T13:31:07.544400Z",
     "shell.execute_reply": "2021-04-08T13:31:07.543400Z",
     "shell.execute_reply.started": "2021-04-08T13:31:07.203400Z"
    },
    "tags": []
   },
   "outputs": [
    {
     "data": {
      "text/plain": [
       "622    942\n",
       "291    942\n",
       "879    758\n",
       "Name: store, dtype: int64"
      ]
     },
     "metadata": {},
     "output_type": "display_data"
    },
    {
     "name": "stdout",
     "output_type": "stream",
     "text": [
      "\n",
      "\n",
      "942\n",
      "942\n",
      "758\n",
      "\n",
      "\n",
      "75860.0\n",
      "\n",
      "\n",
      "Após a modificação, agora há 0 valor faltante\n"
     ]
    }
   ],
   "source": [
    "#competition_distance: distance in meters to the nearest competitor store\n",
    "\n",
    "# o código abaixo revela que existem 3 lojas (622, 291 e 879) que possuem esta coluna em branco\n",
    "stores = df1[df1[\"competition_distance\"].isna()][\"store\"].value_counts()\n",
    "display(stores)\n",
    "print(\"\\n\")\n",
    "\n",
    "# o código abaixo revela que existem as mesmas quantidades de linhas que trazem os dados destas stores em relação\n",
    "# à quantidade de linhas com o valor da distância do competidor mais próximo\n",
    "for store in stores.index:\n",
    "    print(df1[df1[\"store\"] == store].shape[0])\n",
    "print(\"\\n\")  \n",
    "    \n",
    "# portanto, é razoável assumir que este valor NA para a competition distance significa que não há loja competidora próxima\n",
    "# será então substituída por um vlaor muito maior que a distância máxima\n",
    "# antes, precisamos saber o a distância máxima presente no dataset\n",
    "print((df1[\"competition_distance\"].max()))\n",
    "print(\"\\n\") \n",
    "\n",
    "# sabendo que a distância máximo é 75860, podemos substituir por 200.000, por exemplo\n",
    "df1[\"competition_distance\"] = df1[\"competition_distance\"].fillna(200000)\n",
    "\n",
    "# finalmente, checando se atribuiu corretamente\n",
    "print(\"Após a modificação, agora há \" + str(df1[\"competition_distance\"].isna().sum()) + \" valor faltante\")"
   ]
  },
  {
   "cell_type": "code",
   "execution_count": 242,
   "id": "modern-biology",
   "metadata": {
    "execution": {
     "iopub.execute_input": "2021-04-08T13:31:07.545400Z",
     "iopub.status.busy": "2021-04-08T13:31:07.545400Z",
     "iopub.status.idle": "2021-04-08T13:32:23.591400Z",
     "shell.execute_reply": "2021-04-08T13:32:23.591400Z",
     "shell.execute_reply.started": "2021-04-08T13:31:07.545400Z"
    },
    "tags": []
   },
   "outputs": [],
   "source": [
    "#competition_open_since_month:  gives the approximate year and month of the time the nearest competitor was opened\n",
    "\n",
    "# para a primeira interação do CRISP, para aquelas lojas que eu não tenho a informação sobre quando a loja competidora abriu,\n",
    "# vou simplesmente alocar o mesmo mês da linha de venda. Mesmo não sendo lógico, se for preciso na segunda interação do método CRISP\n",
    "# poderei alterar esta atribuição.\n",
    "# um motivo para essa suposição é que o mês e ano que uma loja competidora abriu pode significar um evento no comportamento de vendas\n",
    "# tal evento pode ser detectado lá no feature selection\n",
    "# logo, se o mês e ano da loja competidora \"acompanham\" o mês e ano da data da venda, não haverá nenhuma consequência nas vendas para as linhas que\n",
    "# inicialmente estavam NA\n",
    "\n",
    "\n",
    "x = lambda x: x[\"date\"].month if math.isnan(x[\"competition_open_since_month\"]) else x[\"competition_open_since_month\"]\n",
    "df1[\"competition_open_since_month\"] = df1.apply(x, axis=1)\n",
    "\n",
    "# o mesmo raciocínio para o \"competition_open_since_month\" vale para o \"competition_open_since_year\", promo2_since_week e promo2_since_year\n",
    "#competition_open_since_year\n",
    "x = lambda x: x[\"date\"].year if math.isnan(x[\"competition_open_since_year\"]) else x[\"competition_open_since_year\"]\n",
    "df1[\"competition_open_since_year\"] = df1.apply(x, axis=1)\n",
    "\n",
    "#promo2_since_week\n",
    "x = lambda x: x[\"date\"].week if math.isnan(x[\"promo2_since_week\"]) else x[\"promo2_since_week\"]\n",
    "df1[\"promo2_since_week\"] = df1.apply(x, axis=1)\n",
    "\n",
    "#promo2_since_year\n",
    "x = lambda x: x[\"date\"].year if math.isnan(x[\"promo2_since_year\"]) else x[\"promo2_since_year\"]\n",
    "df1[\"promo2_since_year\"] = df1.apply(x, axis=1)\n"
   ]
  },
  {
   "cell_type": "code",
   "execution_count": 243,
   "id": "constitutional-bhutan",
   "metadata": {
    "execution": {
     "iopub.execute_input": "2021-04-08T13:32:23.592400Z",
     "iopub.status.busy": "2021-04-08T13:32:23.592400Z",
     "iopub.status.idle": "2021-04-08T13:32:35.792400Z",
     "shell.execute_reply": "2021-04-08T13:32:35.792400Z",
     "shell.execute_reply.started": "2021-04-08T13:32:23.592400Z"
    },
    "tags": []
   },
   "outputs": [],
   "source": [
    "#promo_interval: describes the consecutive intervals Promo2 is started, naming the months the promotion is started anew. \n",
    "#E.g. \"Feb,May,Aug,Nov\" means each round starts in February, May, August, November of any given year for that store\n",
    "\n",
    "# para a primeira rodada do CRISP, será atribuído o valor 0 (zero) para os dados faltantes da coluna \"promo_interval\"\n",
    "df1[\"promo_interval\"].fillna(0, inplace = True)\n",
    "\n",
    "# a seguir, será verificado se o mês da data da linha é mês de início de rodada da promo2 e atribuído à nova coluna \"is_promo:\n",
    "# 0 (quando não é mês de de início) ou 1 (quando é mês de início)\n",
    "month_map = {1: \"Jan\", 2: \"Feb\", 3: \"Mar\", 4: \"Apr\", 5: \"May\", 6: \"Jun\", 7: \"Jul\", 8: \"Aug\",9: \"Sept\", 10: \"Oct\", 11: \"Nov\",12: \"Dec\"}\n",
    "df1[\"month_map\"] = df1[\"date\"].dt.month.map(month_map)\n",
    "\n",
    "# escrevi 2 maneiras de executar a função que popula a nova coluna \"is_promo\"\n",
    "# a primeira demora +10 min e por isso foi inteiramente comentada:\n",
    "\n",
    "#def isPromo(df):\n",
    "#    if df[\"promo_interval\"] == 0:\n",
    "#        df[\"is_promo\"] = 0\n",
    "#    else:\n",
    "#        if df[\"month_map\"] in df[\"promo_interval\"].split(','):\n",
    "#            df[\"is_promo\"] = 1\n",
    "#        else:\n",
    "#            df[\"is_promo\"] = 0\n",
    "#    return df\n",
    "            \n",
    "# df1[\"is_promo\"] = df1[[\"promo_interval\",\"month_map\"]].apply(isPromo, axis = 1)[\"is_promo\"]\n",
    "# Last executed at 2021-04-08 09:14:02 in 13m 57.15s\n",
    "\n",
    "\n",
    "# a segunda demora menos de 15 segundos:\n",
    "df1[\"is_promo\"] = df1[[\"promo_interval\",\"month_map\"]].apply(lambda x: 0 if x[\"promo_interval\"] == 0 else 1 if x[\"month_map\"] in x[\"promo_interval\"].split(',') else 0, axis = 1)\n",
    "# Last executed at 2021-04-08 08:53:43 in 11.97s"
   ]
  },
  {
   "cell_type": "code",
   "execution_count": 244,
   "id": "broken-ridge",
   "metadata": {
    "execution": {
     "iopub.execute_input": "2021-04-08T13:32:35.793400Z",
     "iopub.status.busy": "2021-04-08T13:32:35.793400Z",
     "iopub.status.idle": "2021-04-08T13:32:36.023400Z",
     "shell.execute_reply": "2021-04-08T13:32:36.023400Z",
     "shell.execute_reply.started": "2021-04-08T13:32:35.793400Z"
    },
    "tags": []
   },
   "outputs": [
    {
     "data": {
      "text/plain": [
       "store                           0\n",
       "day_of_week                     0\n",
       "date                            0\n",
       "sales                           0\n",
       "customers                       0\n",
       "open                            0\n",
       "promo                           0\n",
       "z_state_holiday                 0\n",
       "school_holiday                  0\n",
       "store_type                      0\n",
       "assortment                      0\n",
       "competition_distance            0\n",
       "competition_open_since_month    0\n",
       "competition_open_since_year     0\n",
       "promo2                          0\n",
       "promo2_since_week               0\n",
       "promo2_since_year               0\n",
       "promo_interval                  0\n",
       "month_map                       0\n",
       "is_promo                        0\n",
       "dtype: int64"
      ]
     },
     "execution_count": 244,
     "metadata": {},
     "output_type": "execute_result"
    }
   ],
   "source": [
    "# confirma que todos os dados faltantes foram tratados\n",
    "df1.isna().sum()"
   ]
  },
  {
   "cell_type": "markdown",
   "id": "found-melissa",
   "metadata": {},
   "source": [
    "# 1.1"
   ]
  },
  {
   "cell_type": "markdown",
   "id": "conceptual-concrete",
   "metadata": {},
   "source": [
    "# 1.1"
   ]
  },
  {
   "cell_type": "markdown",
   "id": "secure-unknown",
   "metadata": {},
   "source": [
    "# 1.1"
   ]
  }
 ],
 "metadata": {
  "kernelspec": {
   "display_name": "Python 3",
   "language": "python",
   "name": "python3"
  },
  "language_info": {
   "codemirror_mode": {
    "name": "ipython",
    "version": 3
   },
   "file_extension": ".py",
   "mimetype": "text/x-python",
   "name": "python",
   "nbconvert_exporter": "python",
   "pygments_lexer": "ipython3",
   "version": "3.7.10"
  },
  "toc-autonumbering": false,
  "toc-showcode": false,
  "toc-showmarkdowntxt": false,
  "toc-showtags": false
 },
 "nbformat": 4,
 "nbformat_minor": 5
}
