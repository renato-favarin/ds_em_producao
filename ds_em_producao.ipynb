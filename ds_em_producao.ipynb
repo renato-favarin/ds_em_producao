{
 "cells": [
  {
   "cell_type": "markdown",
   "id": "suburban-peace",
   "metadata": {},
   "source": [
    "Oficialmente, os estudos do DS em Produção serão iniciados.\n",
    "Por enquanto aprendi como configura o ambiente e sincroniza com o GitHub."
   ]
  },
  {
   "cell_type": "code",
   "execution_count": 1,
   "id": "sexual-dynamics",
   "metadata": {},
   "outputs": [
    {
     "name": "stdout",
     "output_type": "stream",
     "text": [
      "Git\n"
     ]
    }
   ],
   "source": [
    "print(\"Git\")"
   ]
  },
  {
   "cell_type": "code",
   "execution_count": 1,
   "id": "arranged-sarah",
   "metadata": {},
   "outputs": [
    {
     "output_type": "stream",
     "name": "stdout",
     "text": [
      "VC Studio\n"
     ]
    }
   ],
   "source": [
    "print(\"VS Studio\")"
   ]
  },
  {
   "cell_type": "code",
   "execution_count": 2,
   "metadata": {},
   "outputs": [
    {
     "output_type": "stream",
     "name": "stdout",
     "text": [
      "Package             Version\n------------------- -------------------\nanyio               2.2.0\nargon2-cffi         20.1.0\nasync-generator     1.10\nattrs               20.3.0\nBabel               2.9.0\nbackcall            0.2.0\nbleach              3.3.0\ncertifi             2020.12.5\ncffi                1.14.5\nchardet             4.0.0\ncolorama            0.4.4\ndecorator           4.4.2\ndefusedxml          0.7.1\nentrypoints         0.3\nidna                2.10\nimportlib-metadata  3.10.0\nipykernel           5.5.3\nipython             7.22.0\nipython-genutils    0.2.0\njedi                0.18.0\nJinja2              2.11.3\njson5               0.9.5\njsonschema          3.2.0\njupyter-client      6.1.12\njupyter-core        4.7.1\njupyter-packaging   0.7.12\njupyter-server      1.5.1\njupyterlab          3.0.12\njupyterlab-pygments 0.1.2\njupyterlab-server   2.4.0\nMarkupSafe          1.1.1\nmistune             0.8.4\nnbclassic           0.2.6\nnbclient            0.5.3\nnbconvert           6.0.7\nnbformat            5.1.2\nnest-asyncio        1.5.1\nnotebook            6.3.0\nnumpy               1.20.2\npackaging           20.9\npandas              1.2.3\npandocfilters       1.4.3\nparso               0.8.2\npickleshare         0.7.5\npip                 21.0.1\nprometheus-client   0.9.0\nprompt-toolkit      3.0.18\npycparser           2.20\nPygments            2.8.1\npyparsing           2.4.7\npyrsistent          0.17.3\npython-dateutil     2.8.1\npytz                2021.1\npywin32             300\npywinpty            0.5.7\npyzmq               22.0.3\nrequests            2.25.1\nSend2Trash          1.5.0\nsetuptools          52.0.0.post20210125\nsix                 1.15.0\nsniffio             1.2.0\nterminado           0.9.4\ntestpath            0.4.4\ntornado             6.1\ntraitlets           5.0.5\ntyping-extensions   3.7.4.3\nurllib3             1.26.4\nwcwidth             0.2.5\nwebencodings        0.5.1\nwheel               0.36.2\nwincertstore        0.2\nzipp                3.4.1\nNote: you may need to restart the kernel to use updated packages.\n"
     ]
    }
   ],
   "source": [
    "pip list"
   ]
  },
  {
   "cell_type": "code",
   "execution_count": null,
   "metadata": {},
   "outputs": [],
   "source": []
  }
 ],
 "metadata": {
  "kernelspec": {
   "name": "python3710jvsc74a57bd0b1b46a636a50bc9591da01a3ca09db85c10160528cc2ffc4417c1d2750664adf",
   "display_name": "Python 3.7.10 64-bit ('dev_ds_producao': conda)"
  },
  "language_info": {
   "codemirror_mode": {
    "name": "ipython",
    "version": 3
   },
   "file_extension": ".py",
   "mimetype": "text/x-python",
   "name": "python",
   "nbconvert_exporter": "python",
   "pygments_lexer": "ipython3",
   "version": "3.7.10"
  }
 },
 "nbformat": 4,
 "nbformat_minor": 5
}