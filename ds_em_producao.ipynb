{
 "cells": [
  {
   "cell_type": "markdown",
   "id": "assumed-belize",
   "metadata": {},
   "source": [
    "Oficialmente, os estudos do DS em Produção serão iniciados.\n",
    "Por enquanto aprendi como configura o ambiente e sincroniza com o GitHub."
   ]
  },
  {
   "cell_type": "code",
   "execution_count": null,
   "id": "plastic-incentive",
   "metadata": {},
   "outputs": [],
   "source": []
  }
 ],
 "metadata": {
  "kernelspec": {
   "display_name": "Python 3",
   "language": "python",
   "name": "python3"
  },
  "language_info": {
   "codemirror_mode": {
    "name": "ipython",
    "version": 3
   },
   "file_extension": ".py",
   "mimetype": "text/x-python",
   "name": "python",
   "nbconvert_exporter": "python",
   "pygments_lexer": "ipython3",
   "version": "3.7.10"
  }
 },
 "nbformat": 4,
 "nbformat_minor": 5
}
